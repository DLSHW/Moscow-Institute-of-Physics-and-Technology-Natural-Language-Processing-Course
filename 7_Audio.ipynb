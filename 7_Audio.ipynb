{
 "cells": [
  {
   "cell_type": "markdown",
   "metadata": {},
   "source": [
    "## Audio Classification with TIMIT dataset"
   ]
  },
  {
   "cell_type": "code",
   "execution_count": null,
   "metadata": {
    "id": "9WWC5bPvk0AP"
   },
   "outputs": [],
   "source": [
    "!pip3 install audiomentations"
   ]
  },
  {
   "cell_type": "code",
   "execution_count": null,
   "metadata": {
    "id": "07JVIaGy-neV"
   },
   "outputs": [],
   "source": [
    "!pip3 install timit-utils==0.9.0\n",
    "\n",
    "! wget https://ndownloader.figshare.com/files/10256148 \n",
    "\n",
    "!unzip -q 10256148"
   ]
  },
  {
   "cell_type": "code",
   "execution_count": 3,
   "metadata": {
    "id": "ATotqbhu-5_m"
   },
   "outputs": [],
   "source": [
    "import timit_utils as tu\n",
    "import os\n",
    "import librosa\n",
    "import numpy as np\n",
    "import pandas as pd\n",
    "from tqdm import tqdm\n",
    "import pickle\n",
    "\n",
    "import torch\n",
    "import torch.nn as nn\n",
    "from torch.optim import Adam\n",
    "import torch.nn.functional as F\n",
    "from torch.utils.data import DataLoader, Dataset, WeightedRandomSampler\n",
    "\n",
    "from audiomentations import Compose, AddGaussianNoise, TimeStretch, PitchShift, Shift\n",
    "\n",
    "import matplotlib.pyplot as plt\n",
    "import seaborn as sns\n",
    "\n",
    "from sklearn.metrics import accuracy_score, f1_score\n",
    "from sklearn.metrics import confusion_matrix\n",
    "from sklearn.model_selection import train_test_split\n",
    "from sklearn.preprocessing import  LabelEncoder\n",
    "\n",
    "import IPython\n",
    "\n",
    "_TIMIT_PATH = 'data/lisa/data/timit/raw/TIMIT'"
   ]
  },
  {
   "cell_type": "code",
   "execution_count": 4,
   "metadata": {
    "id": "73GaBUWFW9Wg"
   },
   "outputs": [],
   "source": [
    "def show_age_sex_distribution(dataset):\n",
    "  plt.figure(figsize=(10, 5))\n",
    "  plt.subplot(1, 2, 1)\n",
    "  dataset[dataset['mode'] == 'TRN']['age'].hist()\n",
    "  dataset[dataset['mode'] == 'TST']['age'].hist()\n",
    "  dataset[dataset['mode'] == 'VAL']['age'].hist()\n",
    "  plt.legend(['TRN', 'TST', 'VAL'])\n",
    "  plt.title('Age distribution')\n",
    "  plt.subplot(1, 2, 2)\n",
    "  dataset[dataset['mode'] == 'TRN']['sex'].hist()\n",
    "  dataset[dataset['mode'] == 'TST']['sex'].hist()\n",
    "  dataset[dataset['mode'] == 'VAL']['sex'].hist()\n",
    "  plt.legend(['TRN', 'TST', 'VAL'])\n",
    "  plt.title('Sex distribution')\n",
    "  plt.show()"
   ]
  },
  {
   "cell_type": "code",
   "execution_count": 5,
   "metadata": {
    "id": "O8PTOFsgN1No"
   },
   "outputs": [],
   "source": [
    "def show_confusion_matrix(confusion_mtx, labels):\n",
    "  mtx = pd.DataFrame(confusion_mtx, columns=labels)\n",
    "  sns.heatmap(mtx, annot=True, cmap='viridis')"
   ]
  },
  {
   "cell_type": "code",
   "execution_count": 6,
   "metadata": {
    "id": "5gOYYct7AfO7"
   },
   "outputs": [],
   "source": [
    "def age_encoder(age):\n",
    "  if age <= 30:\n",
    "    return 0\n",
    "  if 31 <= age <= 50:\n",
    "    return 1\n",
    "  if 51 <= age:\n",
    "    return 2"
   ]
  },
  {
   "cell_type": "code",
   "execution_count": 7,
   "metadata": {
    "id": "hy3ZeO2z-9A1"
   },
   "outputs": [],
   "source": [
    "with open('data/lisa/data/timit/raw/TIMIT/DOC/SPKRINFO.TXT') as f:\n",
    "  text = f.readlines()\n",
    "\n",
    "table = pd.DataFrame(index = range(len(text[39:])),\n",
    "                     columns = ['name', 'mode', 'sex', 'age', 'age_gender']) \n",
    "\n",
    "\n",
    "for i in range(len(text[39:])):\n",
    "  spkr_data = text[39:][i].split()\n",
    "  table['name'][i] = spkr_data[0]\n",
    "  table['sex'][i] = spkr_data[1]\n",
    "  table['mode'][i] = spkr_data[3]\n",
    "  table['age'][i] = age_encoder(int(spkr_data[4].split('/')[-1]) - int(spkr_data[5].split('/')[-1].replace('??', '50')))\n",
    "  table['age_gender'][i] = (table['age'][i], table['sex'][i])\n",
    "  table['dataset'] = 'TIMIT'"
   ]
  },
  {
   "cell_type": "code",
   "execution_count": 8,
   "metadata": {
    "id": "Wscr5zvQCDuY"
   },
   "outputs": [],
   "source": [
    "def age_gender_encoder(age_gender):\n",
    "    label_encoder = LabelEncoder()\n",
    "    return label_encoder.fit_transform(age_gender)"
   ]
  },
  {
   "cell_type": "code",
   "execution_count": 9,
   "metadata": {
    "id": "6fJBriaZEHjF"
   },
   "outputs": [],
   "source": [
    "age_gender = [str(age)+gender for age, gender in table['age_gender']]"
   ]
  },
  {
   "cell_type": "code",
   "execution_count": 10,
   "metadata": {
    "id": "_gJvjAl7GbLA"
   },
   "outputs": [],
   "source": [
    "table['age_gender_encoded'] = age_gender_encoder(age_gender)"
   ]
  },
  {
   "cell_type": "code",
   "execution_count": 11,
   "metadata": {
    "colab": {
     "base_uri": "https://localhost:8080/"
    },
    "id": "sjURiwFaHkWG",
    "outputId": "7d6882ef-bd46-4a2e-ba1a-45cc32b09fc1"
   },
   "outputs": [
    {
     "data": {
      "text/plain": [
       "array([1, 3, 0, 2, 4, 5])"
      ]
     },
     "execution_count": 11,
     "metadata": {
      "tags": []
     },
     "output_type": "execute_result"
    }
   ],
   "source": [
    "table['age_gender_encoded'].unique()"
   ]
  },
  {
   "cell_type": "code",
   "execution_count": 12,
   "metadata": {
    "colab": {
     "base_uri": "https://localhost:8080/"
    },
    "id": "xtDMJBZMhCFx",
    "outputId": "3b52aea4-7dbb-4ee5-a0ac-16d6ffe7fb66"
   },
   "outputs": [
    {
     "name": "stdout",
     "output_type": "stream",
     "text": [
      "630\n",
      "630\n"
     ]
    }
   ],
   "source": [
    "print(table.name.nunique())\n",
    "print(len(table))"
   ]
  },
  {
   "cell_type": "code",
   "execution_count": 13,
   "metadata": {
    "id": "QA1vTzFDh4te"
   },
   "outputs": [],
   "source": [
    "# division into TRN and VAL with respect to both age and sex\n",
    "X = table[table['mode'] == 'TRN'].drop(columns=['age_gender_encoded'])\n",
    "y = table[table['mode'] == 'TRN']['age_gender_encoded']\n",
    "X_train, X_val, y_train, y_val = train_test_split(X, y, test_size=0.1, random_state=42)"
   ]
  },
  {
   "cell_type": "code",
   "execution_count": 14,
   "metadata": {
    "id": "AJjSj2gHicqm"
   },
   "outputs": [],
   "source": [
    "for idx in range(len(table)):\n",
    "  if table['name'][idx] in list(X_val['name']):\n",
    "    table.at[idx, 'mode'] = 'VAL'"
   ]
  },
  {
   "cell_type": "code",
   "execution_count": 15,
   "metadata": {
    "colab": {
     "base_uri": "https://localhost:8080/",
     "height": 108
    },
    "id": "WRScvw5jk1dS",
    "outputId": "0bc9591e-4742-442d-b4f6-17a659928aea"
   },
   "outputs": [
    {
     "data": {
      "text/html": [
       "<div>\n",
       "<style scoped>\n",
       "    .dataframe tbody tr th:only-of-type {\n",
       "        vertical-align: middle;\n",
       "    }\n",
       "\n",
       "    .dataframe tbody tr th {\n",
       "        vertical-align: top;\n",
       "    }\n",
       "\n",
       "    .dataframe thead th {\n",
       "        text-align: right;\n",
       "    }\n",
       "</style>\n",
       "<table border=\"1\" class=\"dataframe\">\n",
       "  <thead>\n",
       "    <tr style=\"text-align: right;\">\n",
       "      <th></th>\n",
       "      <th>name</th>\n",
       "      <th>mode</th>\n",
       "      <th>sex</th>\n",
       "      <th>age</th>\n",
       "      <th>age_gender</th>\n",
       "      <th>dataset</th>\n",
       "      <th>age_gender_encoded</th>\n",
       "    </tr>\n",
       "  </thead>\n",
       "  <tbody>\n",
       "    <tr>\n",
       "      <th>0</th>\n",
       "      <td>ABC0</td>\n",
       "      <td>VAL</td>\n",
       "      <td>M</td>\n",
       "      <td>0</td>\n",
       "      <td>(0, M)</td>\n",
       "      <td>TIMIT</td>\n",
       "      <td>1</td>\n",
       "    </tr>\n",
       "    <tr>\n",
       "      <th>1</th>\n",
       "      <td>ABW0</td>\n",
       "      <td>TST</td>\n",
       "      <td>M</td>\n",
       "      <td>0</td>\n",
       "      <td>(0, M)</td>\n",
       "      <td>TIMIT</td>\n",
       "      <td>1</td>\n",
       "    </tr>\n",
       "  </tbody>\n",
       "</table>\n",
       "</div>"
      ],
      "text/plain": [
       "   name mode sex age age_gender dataset  age_gender_encoded\n",
       "0  ABC0  VAL   M   0     (0, M)   TIMIT                   1\n",
       "1  ABW0  TST   M   0     (0, M)   TIMIT                   1"
      ]
     },
     "execution_count": 15,
     "metadata": {
      "tags": []
     },
     "output_type": "execute_result"
    }
   ],
   "source": [
    "table.head(2)"
   ]
  },
  {
   "cell_type": "code",
   "execution_count": 45,
   "metadata": {
    "colab": {
     "base_uri": "https://localhost:8080/",
     "height": 336
    },
    "id": "lsggO_eGBeIw",
    "outputId": "bec02322-6d87-4b0f-ca35-efd1095ee5e7"
   },
   "outputs": [
    {
     "data": {
      "image/png": "[encoded data removed]",
      "text/plain": [
       "<Figure size 720x360 with 2 Axes>"
      ]
     },
     "metadata": {
      "needs_background": "light",
      "tags": []
     },
     "output_type": "display_data"
    }
   ],
   "source": [
    "show_age_sex_distribution(table)"
   ]
  },
  {
   "cell_type": "code",
   "execution_count": 16,
   "metadata": {
    "id": "1-xJgiTsFCKD"
   },
   "outputs": [],
   "source": [
    "corpus = tu.Corpus(_TIMIT_PATH)"
   ]
  },
  {
   "cell_type": "code",
   "execution_count": 17,
   "metadata": {
    "id": "FbArogpiDliS"
   },
   "outputs": [],
   "source": [
    "columns=['name', 'mode', 'sex', 'age', 'age_gender', 'dataset', \n",
    "        'age_gender_encoded', 'audio']\n",
    "\n",
    "timit = dict(zip(columns, [[] for i in range(len(columns))]))"
   ]
  },
  {
   "cell_type": "code",
   "execution_count": 18,
   "metadata": {
    "colab": {
     "base_uri": "https://localhost:8080/"
    },
    "id": "lO4kaV30EJOW",
    "outputId": "b76d64b4-fd99-43c2-dd11-4b1021493e99"
   },
   "outputs": [
    {
     "name": "stderr",
     "output_type": "stream",
     "text": [
      "100%|██████████| 630/630 [00:21<00:00, 29.61it/s]\n"
     ]
    }
   ],
   "source": [
    "for name in tqdm(corpus.train.people_names+corpus.test.people_names):\n",
    "  if name in corpus.train.people_names:\n",
    "    person = corpus.train.person_by_name(name)\n",
    "  else:\n",
    "    person = corpus.test.person_by_name(name)\n",
    "  for idx in range(len(person.sentences)):\n",
    "    timit['name'].append(name)\n",
    "    timit['mode'].append(table[table['name'] == name]['mode'].tolist()[0])\n",
    "    timit['sex'].append(table[table['name'] == name]['sex'].tolist()[0])\n",
    "    timit['age'].append(table[table['name'] == name]['age'].tolist()[0])\n",
    "    timit['age_gender'].append(table[table['name'] == name]['age_gender'].tolist()[0])\n",
    "    timit['dataset'].append(table[table['name'] == name]['dataset'].tolist()[0])\n",
    "    timit['age_gender_encoded'].append(table[table['name'] == name]['age_gender_encoded'].tolist()[0])\n",
    "    timit['audio'].append(person.sentence_by_index(idx).raw_audio)\n",
    "  "
   ]
  },
  {
   "cell_type": "code",
   "execution_count": 19,
   "metadata": {
    "id": "6TdBYjKqWK7Z"
   },
   "outputs": [],
   "source": [
    "timit = pd.DataFrame(timit)"
   ]
  },
  {
   "cell_type": "code",
   "execution_count": 20,
   "metadata": {
    "colab": {
     "base_uri": "https://localhost:8080/"
    },
    "id": "3-O9KsMuQcM3",
    "outputId": "130cb8d0-037f-4e6f-f793-5ed889edbd60"
   },
   "outputs": [
    {
     "name": "stdout",
     "output_type": "stream",
     "text": [
      "4150\n",
      "470\n",
      "1680\n"
     ]
    }
   ],
   "source": [
    "print(len(timit[timit['mode'] == 'TRN']))\n",
    "print(len(timit[timit['mode'] == 'VAL']))\n",
    "print(len(timit[timit['mode'] == 'TST']))"
   ]
  },
  {
   "cell_type": "code",
   "execution_count": 21,
   "metadata": {
    "colab": {
     "base_uri": "https://localhost:8080/",
     "height": 336
    },
    "id": "BnGOH7R4V_-M",
    "outputId": "44618211-e320-4146-8d1a-9b2fb92edd06"
   },
   "outputs": [
    {
     "data": {
      "image/png": "[encoded data removed]",
      "text/plain": [
       "<Figure size 720x360 with 2 Axes>"
      ]
     },
     "metadata": {
      "needs_background": "light",
      "tags": []
     },
     "output_type": "display_data"
    }
   ],
   "source": [
    "show_age_sex_distribution(timit)"
   ]
  },
  {
   "cell_type": "code",
   "execution_count": 21,
   "metadata": {
    "colab": {
     "base_uri": "https://localhost:8080/"
    },
    "id": "CWkpg2P4h3sb",
    "outputId": "604f3ddf-f108-4645-b4a5-f4432c3eff9b"
   },
   "outputs": [
    {
     "name": "stdout",
     "output_type": "stream",
     "text": [
      "(array([0, 1, 2]), array([2650, 1390,  110]))\n",
      "[0.00037736 0.00071942 0.00909091]\n"
     ]
    }
   ],
   "source": [
    "class_counts = np.unique(timit[timit['mode'] == 'TRN']['age'], return_counts=True)\n",
    "train_class_weights = 1. / class_counts[1]\n",
    "print(class_counts)\n",
    "print(train_class_weights)"
   ]
  },
  {
   "cell_type": "code",
   "execution_count": 22,
   "metadata": {
    "id": "Wjjrqf0-ZdPo"
   },
   "outputs": [],
   "source": [
    "augment = Compose([\n",
    "    AddGaussianNoise(min_amplitude=0., max_amplitude=10, p=0.5),\n",
    "    TimeStretch(min_rate=0.8, max_rate=1.25, p=0.5),\n",
    "    PitchShift(min_semitones=-2, max_semitones=2, p=0.5),\n",
    "    Shift(min_fraction=-0.005, max_fraction=0.005, p=0.5),\n",
    "])"
   ]
  },
  {
   "cell_type": "code",
   "execution_count": 23,
   "metadata": {
    "id": "1f_xnyOqXiPz"
   },
   "outputs": [],
   "source": [
    "class TIMIT_DATASET(Dataset):\n",
    "    def __init__(self, dataset, sample_rate=16000, max_len=150, output_mode='spectrogram'): \n",
    "      self.dataset = dataset\n",
    "      self.sample_rate = sample_rate\n",
    "      self.max_len = max_len\n",
    "      self.output_mode = output_mode\n",
    "    \n",
    "    def __getitem__(self, idx):\n",
    "      row = self.dataset.iloc[idx]\n",
    "      if self.output_mode == 'spectrogram':\n",
    "        spectrogram = self.get_melspectrogram(augment(row['audio'], sample_rate=16000)) # [n_mels, time]\n",
    "        spectrogram = torch.FloatTensor(self.spectrogram_to_image(spectrogram)).unsqueeze(0) # [1, n_mels, n_time_frame_bins]\n",
    "        spectrogram = spectrogram.permute(0, 2, 1)\n",
    "        target = torch.tensor(row['age'], dtype=torch.long)\n",
    "        return {'input': spectrogram, 'target': target} \n",
    "      if self.output_mode == 'waveform':\n",
    "        # preferable max_len=16000 due to lack of memory\n",
    "        amplitudes = row['audio'][:self.max_len]\n",
    "        amplitudes = self.spectrogram_to_image(np.hstack((amplitudes, np.array([0]*(self.max_len - len(amplitudes))))))\n",
    "        waveform = torch.FloatTensor(amplitudes).unsqueeze(0) # dim = [1, T]\n",
    "        target = torch.tensor(row['age'], dtype=torch.long)\n",
    "        return {'input': waveform, 'target': target} \n",
    "    \n",
    "    def spectrogram_to_image(self, spectrogram, eps=1e-6):\n",
    "      mean = np.mean(spectrogram)\n",
    "      std = np.std(spectrogram)\n",
    "      spectrogram_norm = (spectrogram - mean) / (std + eps)\n",
    "      spectrogram_min, spectrogram_max = np.min(spectrogram_norm), np.max(spectrogram_norm)\n",
    "      spectrogram_scaled = 255 * (spectrogram_norm - spectrogram_min) / (spectrogram_max - spectrogram_min)\n",
    "      spectrogram_scaled = spectrogram_scaled.astype(np.uint8)\n",
    "      return spectrogram_scaled\n",
    "\n",
    "    def get_melspectrogram(self, waveforms):\n",
    "        spectrogram = librosa.feature.melspectrogram(waveforms, sr=self.sample_rate, n_mels=128, fmin=1, fmax=8192)[:, :self.max_len]  \n",
    "        db_spectrogram = librosa.power_to_db(spectrogram, ref=np.max)\n",
    "        spectrogram = np.pad(spectrogram, [[0, 0], [0, max(0, self.max_len - spectrogram.shape[1])]], mode='constant')\n",
    "        return self.spectrogram_to_image(np.float32(spectrogram))\n",
    "\n",
    "    def __len__(self):\n",
    "      return len(self.dataset)"
   ]
  },
  {
   "cell_type": "code",
   "execution_count": 24,
   "metadata": {
    "id": "Zy_O3k0HWvv_"
   },
   "outputs": [],
   "source": [
    "all_ages = timit[timit['mode'] == 'TRN']['age']"
   ]
  },
  {
   "cell_type": "code",
   "execution_count": 25,
   "metadata": {
    "colab": {
     "base_uri": "https://localhost:8080/"
    },
    "id": "wFcKWo2VaBlV",
    "outputId": "0c684374-20dc-4480-dbe5-0eef76bf5cf1"
   },
   "outputs": [
    {
     "data": {
      "text/plain": [
       "(array([0, 1, 2]), array([2650, 1390,  110]))"
      ]
     },
     "execution_count": 25,
     "metadata": {
      "tags": []
     },
     "output_type": "execute_result"
    }
   ],
   "source": [
    "np.unique(np.array(all_ages), return_counts=True)"
   ]
  },
  {
   "cell_type": "code",
   "execution_count": 26,
   "metadata": {
    "id": "8k7sNd65W93-"
   },
   "outputs": [],
   "source": [
    "agetoweight = dict(zip(timit[timit['mode'] == 'TRN']['age'].unique(), train_class_weights))"
   ]
  },
  {
   "cell_type": "code",
   "execution_count": 27,
   "metadata": {
    "id": "VgQ3KUmHXggh"
   },
   "outputs": [],
   "source": [
    "all_weights = [agetoweight[age] for age in all_ages]"
   ]
  },
  {
   "cell_type": "code",
   "execution_count": 33,
   "metadata": {
    "id": "SxB__faIXiIW"
   },
   "outputs": [],
   "source": [
    "batch_size = 64\n",
    "\n",
    "trainset = TIMIT_DATASET(timit[timit['mode'] == 'TRN'])\n",
    "valset = TIMIT_DATASET(timit[timit['mode'] == 'VAL'])\n",
    "testset = TIMIT_DATASET(timit[timit['mode'] == 'TST'])\n",
    "\n",
    "weighted_sampler = WeightedRandomSampler(weights=all_weights, num_samples=len(all_ages), replacement=True)\n",
    "\n",
    "train_dataloader = DataLoader(trainset, batch_size=batch_size, sampler=weighted_sampler)\n",
    "val_dataloader = DataLoader(valset, batch_size=batch_size, shuffle=True)\n",
    "test_dataloader = DataLoader(testset, batch_size=batch_size, shuffle=True)\n"
   ]
  },
  {
   "cell_type": "code",
   "execution_count": 34,
   "metadata": {
    "id": "T1BUrtllHwxv"
   },
   "outputs": [],
   "source": [
    "def weights_init_normal(m):\n",
    "  if isinstance(m, nn.Conv2d):\n",
    "    torch.nn.init.normal_(m.weight, 0., 0.02)\n",
    "  if hasattr(m, 'bias') and m.bias is not None:\n",
    "    torch.nn.init.constant_(m.bias.data, 0.)"
   ]
  },
  {
   "cell_type": "code",
   "execution_count": 36,
   "metadata": {
    "id": "_xXQ6IyWhHBi"
   },
   "outputs": [],
   "source": [
    "class SpectrogramConv(nn.Module):\n",
    "    def __init__(self, window_sizes=(3, 4, 5)):\n",
    "        super(SpectrogramConv, self).__init__()\n",
    "\n",
    "        self.convs = nn.ModuleList([\n",
    "            nn.Conv2d(1, 256, kernel_size=(window_size, 128), padding=(window_size - 1, 0)) \n",
    "            for window_size in window_sizes\n",
    "        ])\n",
    "\n",
    "        self.fc = nn.Linear(256 * len(window_sizes), 3) \n",
    "\n",
    "    def forward(self, input):\n",
    "        # input dim = [B, 1, T, F] - batch_size, n_channels, time, frequency\n",
    "        x_convs = []\n",
    "        for conv in self.convs:\n",
    "            x = F.relu(conv(input))  # outdim = [B, C, T, 1]\n",
    "            x = torch.squeeze(x, -1)  # outdim = [B, C, T]\n",
    "            x = F.max_pool1d(x, x.size(2))  # outdim = [B, C, 1]\n",
    "            x_convs.append(x)\n",
    "        x = torch.cat(x_convs, 2)  # outdim = [B, C, 3]\n",
    "\n",
    "        x = x.view(x.size(0), -1)  # outdim = [B, T * 3]\n",
    "        logits = self.fc(x)  # outdim = [B, classes_distribution]\n",
    "        return logits\n"
   ]
  },
  {
   "cell_type": "code",
   "execution_count": 80,
   "metadata": {
    "id": "FoSGkV741wwW"
   },
   "outputs": [],
   "source": [
    "class WaveformConv(nn.Module):\n",
    "  def __init__(self, window_sizes=(3, 4, 5)):\n",
    "        super(WaveformConv, self).__init__()\n",
    "\n",
    "        self.convs = nn.ModuleList([\n",
    "            nn.Conv1d(1, 128, kernel_size=window_size, padding=window_size - 1) \n",
    "            for window_size in window_sizes\n",
    "        ])\n",
    "        self.maxpool = nn.MaxPool1d(kernel_size=3, padding=1, stride=2)\n",
    "        self.fc = nn.Linear(3072640, 4)\n",
    "\n",
    "  def forward(self, input):\n",
    "      x_convs = []\n",
    "      for conv in self.convs:\n",
    "          x = F.relu(conv(input))  \n",
    "          x = self.maxpool(x)  \n",
    "          x_convs.append(x)   \n",
    "      x = torch.cat(x_convs, 2)  \n",
    "      x = x.view(x.size(0), -1)  \n",
    "      logits = self.fc(x)  \n",
    "      return logits"
   ]
  },
  {
   "cell_type": "code",
   "execution_count": 37,
   "metadata": {
    "id": "wefeUoZl0KKi"
   },
   "outputs": [],
   "source": [
    "n_epochs = 3\n",
    "device = torch.device('cuda' if torch.cuda.is_available() else 'cpu')\n",
    "model = SpectrogramConv().to(device)\n",
    "model.apply(weights_init_normal)\n",
    "loss = nn.CrossEntropyLoss()\n",
    "optimizer = Adam(model.parameters(), betas=(0.9, 0.999), eps=1e-5, lr=1e-3)"
   ]
  },
  {
   "cell_type": "code",
   "execution_count": 38,
   "metadata": {
    "colab": {
     "base_uri": "https://localhost:8080/"
    },
    "id": "9VgNikNxhG-Q",
    "outputId": "d2f6dd5b-88b2-4002-aa1d-90f762ab6c71"
   },
   "outputs": [
    {
     "name": "stdout",
     "output_type": "stream",
     "text": [
      "----------------------------------Epoch 0-------------------------------------\n",
      "train_loss 14.156059622764587, val_loss 1.384728580713272\n",
      "train_F1: 0.3694085352221713, val_F1: 0.47991045547429145\n",
      "train_Accuracy: 0.43566595441595446, val_Accuracy: 0.47691761363636365\n",
      "------------------------------------------------------------------------------\n",
      "----------------------------------Epoch 1-------------------------------------\n",
      "train_loss 1.2945507599757269, val_loss 1.0728600099682808\n",
      "train_F1: 0.48277949258343844, val_F1: 0.5079700095549229\n",
      "train_Accuracy: 0.5098112535612536, val_Accuracy: 0.533203125\n",
      "------------------------------------------------------------------------------\n",
      "----------------------------------Epoch 2-------------------------------------\n",
      "train_loss 1.2119342253758356, val_loss 1.1700937747955322\n",
      "train_F1: 0.4808603883577077, val_F1: 0.4950888798241705\n",
      "train_Accuracy: 0.5163016381766382, val_Accuracy: 0.46235795454545453\n",
      "------------------------------------------------------------------------------\n"
     ]
    }
   ],
   "source": [
    "for epoch in range(n_epochs):\n",
    "  model.train()\n",
    "  epoch_train_loss = []\n",
    "  train_accuracy = []\n",
    "  train_f1 = []\n",
    "  for batch in train_dataloader:\n",
    "      input, target = batch['input'].to(device), batch['target'].to(device) \n",
    "\n",
    "      optimizer.zero_grad()\n",
    "      out = model(input)\n",
    "      train_loss = loss(out, target)\n",
    "\n",
    "      epoch_train_loss.append(train_loss.item())\n",
    "    \n",
    "      out = torch.argmax(out, dim=-1)\n",
    "\n",
    "      train_accuracy.append(accuracy_score(target.cpu().numpy(), out.detach().cpu().numpy()))\n",
    "      train_f1.append(f1_score(target.cpu().numpy(), out.detach().cpu().numpy(), average='weighted'))\n",
    "\n",
    "      train_loss.backward()\n",
    "      optimizer.step()\n",
    " \n",
    "  model.eval()\n",
    "  epoch_val_loss = []\n",
    "  val_accuracy = []\n",
    "  val_f1 = []\n",
    "  with torch.no_grad():\n",
    "    for batch in val_dataloader:\n",
    "        input, target = batch['input'].to(device), batch['target'].to(device)\n",
    "\n",
    "        out = model(input)\n",
    "        val_loss = loss(out, target)\n",
    "\n",
    "        epoch_val_loss.append(val_loss.item())\n",
    "\n",
    "        out = torch.argmax(out, dim=-1)\n",
    "\n",
    "        val_accuracy.append(accuracy_score(target.cpu().numpy(), out.detach().cpu().numpy()))\n",
    "        val_f1.append(f1_score(target.cpu().numpy(), out.detach().cpu().numpy(), average='weighted'))\n",
    "  \n",
    "  print(f'----------------------------------Epoch {epoch}-------------------------------------')\n",
    "  print(\"train_loss {}, val_loss {}\".format(sum(epoch_train_loss)/len(epoch_train_loss), sum(epoch_val_loss)/len(epoch_val_loss)))\n",
    "  print(f'train_F1: {sum(train_f1)/len(train_f1)}, val_F1: {sum(val_f1)/len(val_f1)}')\n",
    "  print(f'train_Accuracy: {sum(train_accuracy)/len(train_accuracy)}, val_Accuracy: {sum(val_accuracy)/len(val_accuracy)}')\n",
    "  print('------------------------------------------------------------------------------')"
   ]
  },
  {
   "cell_type": "code",
   "execution_count": 39,
   "metadata": {
    "colab": {
     "base_uri": "https://localhost:8080/"
    },
    "id": "HN6emvN-asvq",
    "outputId": "654eaf06-8a39-4f4e-9452-dd8d0dfc80b0"
   },
   "outputs": [
    {
     "name": "stdout",
     "output_type": "stream",
     "text": [
      "test_F1: 0.4325472580076784\n",
      "test_Accuracy: 0.4212962962962963\n"
     ]
    }
   ],
   "source": [
    "all_targets = []\n",
    "all_outs = []\n",
    "# trained on spectrogram model\n",
    "model.eval()\n",
    "test_accuracy = []\n",
    "test_f1 = []\n",
    "for batch in test_dataloader:\n",
    "  input, target = batch['input'].to(device), batch['target'].to(device)\n",
    "\n",
    "  out = model(input)\n",
    "  out = torch.argmax(out, dim=-1)\n",
    "  \n",
    "  all_targets.append(target.cpu().numpy())\n",
    "  all_outs.append(out.detach().cpu().numpy())\n",
    "\n",
    "  test_accuracy.append(accuracy_score(target.cpu().numpy(), out.detach().cpu().numpy()))\n",
    "  test_f1.append(f1_score(target.cpu().numpy(), out.detach().cpu().numpy(), average='weighted'))\n",
    "\n",
    "print(f'test_F1: {sum(test_f1)/len(test_f1)}')\n",
    "print(f'test_Accuracy: {sum(test_accuracy)/len(test_accuracy)}')"
   ]
  },
  {
   "cell_type": "code",
   "execution_count": 40,
   "metadata": {
    "id": "rdLqOJ42asqj"
   },
   "outputs": [],
   "source": [
    "all_targets = np.concatenate(all_targets, axis=-1)\n",
    "all_outs = np.concatenate(all_outs)"
   ]
  },
  {
   "cell_type": "code",
   "execution_count": 44,
   "metadata": {
    "colab": {
     "base_uri": "https://localhost:8080/"
    },
    "id": "n4m01smHEbV5",
    "outputId": "26d45a67-125f-4118-f2bc-4c967daf746b"
   },
   "outputs": [
    {
     "data": {
      "text/plain": [
       "array([[607, 113, 320],\n",
       "       [310,  56, 164],\n",
       "       [ 51,  15,  44]])"
      ]
     },
     "execution_count": 44,
     "metadata": {
      "tags": []
     },
     "output_type": "execute_result"
    }
   ],
   "source": [
    "confusion_mtx = confusion_matrix(all_targets, all_outs, labels=[0, 1, 2])\n",
    "confusion_mtx"
   ]
  },
  {
   "cell_type": "code",
   "execution_count": 45,
   "metadata": {
    "colab": {
     "base_uri": "https://localhost:8080/",
     "height": 267
    },
    "id": "3viKVQm3Xh30",
    "outputId": "d8ef1805-4e03-4504-fcaf-6b4c9c6c15c4"
   },
   "outputs": [
    {
     "data": {
      "image/png": "[encoded data removed]",
      "text/plain": [
       "<Figure size 432x288 with 2 Axes>"
      ]
     },
     "metadata": {
      "needs_background": "light",
      "tags": []
     },
     "output_type": "display_data"
    }
   ],
   "source": [
    "show_confusion_matrix(confusion_mtx, [0, 1, 2])"
   ]
  },
  {
   "cell_type": "code",
   "execution_count": null,
   "metadata": {
    "id": "xLLdUncIQunC"
   },
   "outputs": [],
   "source": []
  }
 ],
 "metadata": {
  "accelerator": "GPU",
  "colab": {
   "collapsed_sections": [],
   "name": "audio2.ipynb",
   "provenance": []
  },
  "kernelspec": {
   "display_name": "Python 3",
   "language": "python",
   "name": "python3"
  },
  "language_info": {
   "codemirror_mode": {
    "name": "ipython",
    "version": 3
   },
   "file_extension": ".py",
   "mimetype": "text/x-python",
   "name": "python",
   "nbconvert_exporter": "python",
   "pygments_lexer": "ipython3",
   "version": "3.7.7"
  }
 },
 "nbformat": 4,
 "nbformat_minor": 1
}
