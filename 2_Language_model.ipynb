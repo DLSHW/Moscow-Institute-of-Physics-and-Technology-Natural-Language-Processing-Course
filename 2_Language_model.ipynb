{
 "cells": [
  {
   "cell_type": "markdown",
   "metadata": {
    "id": "Ot3c4fjZwC4T"
   },
   "source": [
    "<img src=\"https://s8.hostingkartinok.com/uploads/images/2018/08/308b49fcfbc619d629fe4604bceb67ac.jpg\" width=500, height=450>\n",
    "<h3 style=\"text-align: center;\"><b>Физтех-Школа Прикладной математики и информатики (ФПМИ) МФТИ</b></h3>"
   ]
  },
  {
   "cell_type": "markdown",
   "metadata": {
    "id": "P2JdzEXmwRU5"
   },
   "source": [
    "---"
   ]
  },
  {
   "cell_type": "markdown",
   "metadata": {
    "id": "oMohh_6CwC4W"
   },
   "source": [
    "### Задача определения частей речи, Part-Of-Speech Tagger (POS)"
   ]
  },
  {
   "cell_type": "markdown",
   "metadata": {
    "id": "2Aad2tmBwC4Y"
   },
   "source": [
    "Мы будем решать задачу определения частей речи (POS-теггинга) с помощью скрытой марковской модели (HMM)."
   ]
  },
  {
   "cell_type": "code",
   "execution_count": 82,
   "metadata": {
    "id": "gYYV0mdmwC4f",
    "scrolled": false
   },
   "outputs": [],
   "source": [
    "import nltk\n",
    "import pandas as pd\n",
    "import numpy as np\n",
    "from collections import OrderedDict, deque\n",
    "from nltk.corpus import brown\n",
    "import matplotlib.pyplot as plt\n",
    "\n",
    "from nltk.probability import FreqDist"
   ]
  },
  {
   "cell_type": "markdown",
   "metadata": {
    "id": "FPgI52lRwC4n"
   },
   "source": [
    "Библиотека по обработке текста http://www.nltk.org/book/"
   ]
  },
  {
   "cell_type": "markdown",
   "metadata": {
    "id": "hxdJxMEAwC4o"
   },
   "source": [
    "Загрузим brown корпус"
   ]
  },
  {
   "cell_type": "code",
   "execution_count": 83,
   "metadata": {
    "colab": {
     "base_uri": "https://localhost:8080/",
     "height": 72
    },
    "id": "ZvhXAL_9wC4q",
    "outputId": "4080a962-c124-4227-c8c7-22428df17706",
    "scrolled": true
   },
   "outputs": [
    {
     "name": "stdout",
     "output_type": "stream",
     "text": [
      "[nltk_data] Downloading package brown to /root/nltk_data...\n",
      "[nltk_data]   Package brown is already up-to-date!\n"
     ]
    },
    {
     "data": {
      "text/plain": [
       "True"
      ]
     },
     "execution_count": 83,
     "metadata": {
      "tags": []
     },
     "output_type": "execute_result"
    }
   ],
   "source": [
    "nltk.download('brown')"
   ]
  },
  {
   "cell_type": "markdown",
   "metadata": {
    "id": "wto8PSC6wC4v"
   },
   "source": [
    "Существует не одна система тегирования, поэтому , когда прогнозируем тег слов в тексте и вычисляем качество прогноза, можно получить несправедливо низкое качество решения."
   ]
  },
  {
   "cell_type": "markdown",
   "metadata": {
    "id": "eJ6tuHA_wC4z"
   },
   "source": [
    "Сейчас будем использовать универсальную систему тегирования universal_tagset "
   ]
  },
  {
   "cell_type": "code",
   "execution_count": 84,
   "metadata": {
    "colab": {
     "base_uri": "https://localhost:8080/",
     "height": 72
    },
    "id": "Cht7dImWwC42",
    "outputId": "be26fd90-e80d-488d-b4c9-229f7d732b16"
   },
   "outputs": [
    {
     "name": "stdout",
     "output_type": "stream",
     "text": [
      "[nltk_data] Downloading package universal_tagset to /root/nltk_data...\n",
      "[nltk_data]   Package universal_tagset is already up-to-date!\n"
     ]
    },
    {
     "data": {
      "text/plain": [
       "True"
      ]
     },
     "execution_count": 84,
     "metadata": {
      "tags": []
     },
     "output_type": "execute_result"
    }
   ],
   "source": [
    "nltk.download('universal_tagset')"
   ]
  },
  {
   "cell_type": "markdown",
   "metadata": {
    "id": "IiTimRRywC47"
   },
   "source": [
    "<img src=\"https://4.bp.blogspot.com/-IcFli2wljs0/WrVCw3umY_I/AAAAAAAACYM/UJ_neoUAs3wF95dj2Ouf3BzxXzB_b2TbQCLcBGAs/s1600/postags.png\">\n"
   ]
  },
  {
   "cell_type": "markdown",
   "metadata": {
    "id": "iyDBMcBSwC48"
   },
   "source": [
    "Мы имеем массив предложений пар (слово-тег)"
   ]
  },
  {
   "cell_type": "code",
   "execution_count": 203,
   "metadata": {
    "colab": {
     "base_uri": "https://localhost:8080/",
     "height": 55
    },
    "id": "BobflewQwC4-",
    "outputId": "08a92c0f-470d-46c3-d2b8-059b55b74010",
    "scrolled": false
   },
   "outputs": [
    {
     "data": {
      "text/plain": [
       "[[('The', 'DET'), ('Fulton', 'NOUN'), ('County', 'NOUN'), ('Grand', 'ADJ'), ('Jury', 'NOUN'), ('said', 'VERB'), ('Friday', 'NOUN'), ('an', 'DET'), ('investigation', 'NOUN'), ('of', 'ADP'), (\"Atlanta's\", 'NOUN'), ('recent', 'ADJ'), ('primary', 'NOUN'), ('election', 'NOUN'), ('produced', 'VERB'), ('``', '.'), ('no', 'DET'), ('evidence', 'NOUN'), (\"''\", '.'), ('that', 'ADP'), ('any', 'DET'), ('irregularities', 'NOUN'), ('took', 'VERB'), ('place', 'NOUN'), ('.', '.')], [('The', 'DET'), ('jury', 'NOUN'), ('further', 'ADV'), ('said', 'VERB'), ('in', 'ADP'), ('term-end', 'NOUN'), ('presentments', 'NOUN'), ('that', 'ADP'), ('the', 'DET'), ('City', 'NOUN'), ('Executive', 'ADJ'), ('Committee', 'NOUN'), (',', '.'), ('which', 'DET'), ('had', 'VERB'), ('over-all', 'ADJ'), ('charge', 'NOUN'), ('of', 'ADP'), ('the', 'DET'), ('election', 'NOUN'), (',', '.'), ('``', '.'), ('deserves', 'VERB'), ('the', 'DET'), ('praise', 'NOUN'), ('and', 'CONJ'), ('thanks', 'NOUN'), ('of', 'ADP'), ('the', 'DET'), ('City', 'NOUN'), ('of', 'ADP'), ('Atlanta', 'NOUN'), (\"''\", '.'), ('for', 'ADP'), ('the', 'DET'), ('manner', 'NOUN'), ('in', 'ADP'), ('which', 'DET'), ('the', 'DET'), ('election', 'NOUN'), ('was', 'VERB'), ('conducted', 'VERB'), ('.', '.')], ...]"
      ]
     },
     "execution_count": 203,
     "metadata": {
      "tags": []
     },
     "output_type": "execute_result"
    }
   ],
   "source": [
    "brown_tagged_sents = brown.tagged_sents(tagset=\"universal\")\n",
    "brown_tagged_sents"
   ]
  },
  {
   "cell_type": "markdown",
   "metadata": {
    "id": "jSu1KqRrwC5L"
   },
   "source": [
    "Первое предложение"
   ]
  },
  {
   "cell_type": "code",
   "execution_count": null,
   "metadata": {
    "colab": {
     "base_uri": "https://localhost:8080/",
     "height": 476
    },
    "id": "zCHCZPlkwC5N",
    "outputId": "53b5210d-4a67-44ef-d90f-eb496f6584e8"
   },
   "outputs": [
    {
     "data": {
      "text/plain": [
       "[('The', 'DET'),\n",
       " ('Fulton', 'NOUN'),\n",
       " ('County', 'NOUN'),\n",
       " ('Grand', 'ADJ'),\n",
       " ('Jury', 'NOUN'),\n",
       " ('said', 'VERB'),\n",
       " ('Friday', 'NOUN'),\n",
       " ('an', 'DET'),\n",
       " ('investigation', 'NOUN'),\n",
       " ('of', 'ADP'),\n",
       " (\"Atlanta's\", 'NOUN'),\n",
       " ('recent', 'ADJ'),\n",
       " ('primary', 'NOUN'),\n",
       " ('election', 'NOUN'),\n",
       " ('produced', 'VERB'),\n",
       " ('``', '.'),\n",
       " ('no', 'DET'),\n",
       " ('evidence', 'NOUN'),\n",
       " (\"''\", '.'),\n",
       " ('that', 'ADP'),\n",
       " ('any', 'DET'),\n",
       " ('irregularities', 'NOUN'),\n",
       " ('took', 'VERB'),\n",
       " ('place', 'NOUN'),\n",
       " ('.', '.')]"
      ]
     },
     "execution_count": 7,
     "metadata": {
      "tags": []
     },
     "output_type": "execute_result"
    }
   ],
   "source": [
    "brown_tagged_sents[0]"
   ]
  },
  {
   "cell_type": "markdown",
   "metadata": {
    "id": "SIV2MiRxwC5Q"
   },
   "source": [
    "Все пары (слово-тег)"
   ]
  },
  {
   "cell_type": "code",
   "execution_count": 86,
   "metadata": {
    "colab": {
     "base_uri": "https://localhost:8080/",
     "height": 35
    },
    "id": "dVx9e9HcwC5R",
    "outputId": "14c92b62-4b30-4836-ad7f-cf8586ac12bf"
   },
   "outputs": [
    {
     "data": {
      "text/plain": [
       "[('The', 'DET'), ('Fulton', 'NOUN'), ...]"
      ]
     },
     "execution_count": 86,
     "metadata": {
      "tags": []
     },
     "output_type": "execute_result"
    }
   ],
   "source": [
    "brown_tagged_words = brown.tagged_words(tagset='universal')\n",
    "brown_tagged_words"
   ]
  },
  {
   "cell_type": "markdown",
   "metadata": {
    "id": "y-ADby6LwC5V"
   },
   "source": [
    "Проанализируйтем данные, с которыми работаетем. Используем `nltk.FreqDist()` для подсчета частоты встречаемости тега и слова в нашем корпусе. Под частой элемента подразумевается кол-во этого элемента в корпусе."
   ]
  },
  {
   "cell_type": "code",
   "execution_count": 6,
   "metadata": {
    "id": "JzRoXuKFcMZK",
    "scrolled": false
   },
   "outputs": [],
   "source": [
    "# Приведем слова к нижнему регистру\n",
    "brown_tagged_words = list(map(lambda x: (x[0].lower(), x[1]), brown_tagged_words))"
   ]
  },
  {
   "cell_type": "code",
   "execution_count": 87,
   "metadata": {
    "colab": {
     "base_uri": "https://localhost:8080/",
     "height": 35
    },
    "id": "4giWaqXjwC5W",
    "outputId": "6d552c7a-9e8a-446a-cb46-524ef48ae1c9"
   },
   "outputs": [
    {
     "name": "stdout",
     "output_type": "stream",
     "text": [
      "Кол-во предложений:  57340\n"
     ]
    }
   ],
   "source": [
    "print('Кол-во предложений: ', len(brown_tagged_sents))\n",
    "tags = [tag for (word, tag) in brown_tagged_words] # наши теги\n",
    "words = [word for (word, tag) in brown_tagged_words] # наши слова\n",
    "\n",
    "tag_num = pd.Series(FreqDist(pd.Series(tags))).sort_values(ascending=False)\n",
    "words_num = pd.Series(FreqDist(pd.Series(words))).sort_values(ascending=False)"
   ]
  },
  {
   "cell_type": "code",
   "execution_count": null,
   "metadata": {
    "colab": {
     "base_uri": "https://localhost:8080/",
     "height": 336
    },
    "id": "8Y1huw7TwC5b",
    "outputId": "6d8c7a7d-b95b-4f22-86f9-7b2f7d2531d1"
   },
   "outputs": [
    {
     "data": {
      "image/png": "[encoded data removed]",
      "text/plain": [
       "<Figure size 864x360 with 1 Axes>"
      ]
     },
     "metadata": {
      "needs_background": "light",
      "tags": []
     },
     "output_type": "display_data"
    }
   ],
   "source": [
    "plt.figure(figsize=(12, 5))\n",
    "plt.bar(tag_num.index[0:20], tag_num.values[0:20])\n",
    "plt.title(\"Tag_frequency\")\n",
    "plt.show()"
   ]
  },
  {
   "cell_type": "code",
   "execution_count": null,
   "metadata": {
    "colab": {
     "base_uri": "https://localhost:8080/",
     "height": 336
    },
    "id": "1WmEOBMkwC5i",
    "outputId": "d5c3cd3e-03c5-46b3-aed1-f085100325bd"
   },
   "outputs": [
    {
     "data": {
      "image/png": "[encoded data removed]",
      "text/plain": [
       "<Figure size 864x360 with 1 Axes>"
      ]
     },
     "metadata": {
      "needs_background": "light",
      "tags": []
     },
     "output_type": "display_data"
    }
   ],
   "source": [
    "plt.figure(figsize=(12, 5))\n",
    "plt.bar(words_num.index[:10], words_num.values[:10])\n",
    "plt.title(\"Word_frequency\")\n",
    "plt.show()"
   ]
  },
  {
   "cell_type": "markdown",
   "metadata": {
    "id": "n08z2PjMwC5o"
   },
   "source": [
    "Кол-во слова `cat` в корпусе"
   ]
  },
  {
   "cell_type": "code",
   "execution_count": null,
   "metadata": {
    "colab": {
     "base_uri": "https://localhost:8080/",
     "height": 34
    },
    "id": "ad1nGAn9XfAQ",
    "outputId": "92f2853f-dfb9-4934-c560-91232adb190a"
   },
   "outputs": [
    {
     "data": {
      "text/plain": [
       "23"
      ]
     },
     "execution_count": 65,
     "metadata": {
      "tags": []
     },
     "output_type": "execute_result"
    }
   ],
   "source": [
    "words_num['cat']"
   ]
  },
  {
   "cell_type": "markdown",
   "metadata": {
    "id": "UsCfVLsewC5s"
   },
   "source": [
    "Самое популярное слово с самым популярным тегом? (сначала выбираем слова с самым популярным тегом, а затем выбираем самое популярное слово из уже выбранных)"
   ]
  },
  {
   "cell_type": "code",
   "execution_count": 88,
   "metadata": {
    "colab": {
     "base_uri": "https://localhost:8080/",
     "height": 35
    },
    "id": "53-4o8_DXz9a",
    "outputId": "6a4abbe8-18e1-4f91-c108-1c7347b94cfc"
   },
   "outputs": [
    {
     "data": {
      "text/plain": [
       "('time', 'NOUN')"
      ]
     },
     "execution_count": 88,
     "metadata": {
      "tags": []
     },
     "output_type": "execute_result"
    }
   ],
   "source": [
    "most_pop_tag = tag_num.idxmax()\n",
    "most_pop_word = pd.DataFrame([i for i, j in brown_tagged_words if j == most_pop_tag]).value_counts().sort_values(ascending=False).index[0][0]\n",
    "most_pop_wordtag = (most_pop_word, most_pop_tag)\n",
    "most_pop_wordtag"
   ]
  },
  {
   "cell_type": "markdown",
   "metadata": {
    "id": "K-OGc1rSwC5x"
   },
   "source": [
    "Впоследствии обучение моделей может занимать слишком много времени, работаем с подвыборкой, например, только текстами определенных категорий."
   ]
  },
  {
   "cell_type": "markdown",
   "metadata": {
    "id": "Eb7MhxVRwC5y"
   },
   "source": [
    "Категории нашего корпуса:"
   ]
  },
  {
   "cell_type": "code",
   "execution_count": 8,
   "metadata": {
    "colab": {
     "base_uri": "https://localhost:8080/",
     "height": 290
    },
    "id": "GSiVcP1TwC51",
    "outputId": "445e7919-516a-4972-fce4-01cbd0f44c90"
   },
   "outputs": [
    {
     "data": {
      "text/plain": [
       "['adventure',\n",
       " 'belles_lettres',\n",
       " 'editorial',\n",
       " 'fiction',\n",
       " 'government',\n",
       " 'hobbies',\n",
       " 'humor',\n",
       " 'learned',\n",
       " 'lore',\n",
       " 'mystery',\n",
       " 'news',\n",
       " 'religion',\n",
       " 'reviews',\n",
       " 'romance',\n",
       " 'science_fiction']"
      ]
     },
     "execution_count": 8,
     "metadata": {
      "tags": []
     },
     "output_type": "execute_result"
    }
   ],
   "source": [
    "brown.categories()"
   ]
  },
  {
   "cell_type": "markdown",
   "metadata": {
    "id": "MjSlFatJwC53"
   },
   "source": [
    "Будем работать с категорией humor"
   ]
  },
  {
   "cell_type": "markdown",
   "metadata": {
    "id": "_f1rl5x0wC55"
   },
   "source": [
    "Cделаем случайное разбиение выборки на обучение и контроль в отношении 9:1. "
   ]
  },
  {
   "cell_type": "code",
   "execution_count": 215,
   "metadata": {
    "id": "GX9t-1qowC58"
   },
   "outputs": [],
   "source": [
    "#brown_tagged_sents = brown.tagged_sents(tagset=\"universal\", categories='humor')\n",
    "# Приведем слова к нижнему регистру\n",
    "my_brown_tagged_sents = []\n",
    "for sent in brown_tagged_sents:\n",
    "    my_brown_tagged_sents.append(list(map(lambda x: (x[0].lower(), x[1]), sent)))\n",
    "my_brown_tagged_sents = np.array(my_brown_tagged_sents)\n",
    "\n",
    "from sklearn.model_selection import train_test_split\n",
    "train_sents, test_sents = train_test_split(my_brown_tagged_sents, test_size=0.1, random_state=0)"
   ]
  },
  {
   "cell_type": "markdown",
   "metadata": {
    "id": "_rEasLVcwC6G"
   },
   "source": [
    "### Метод максимального правдоподобия для обучения модели\n",
    "\n",
    "* $\\normalsize S = s_0, s_1, ..., s_N$ - скрытые состояния, то есть различные теги\n",
    "* $\\normalsize O = o_0, o_1, ..., o_M$ - различные слова\n",
    "* $\\normalsize a_{i,j} = p(s_j|s_i)$ - вероятность того, что, находясь в скрытом состоянии $s_i$, мы попадем в состояние $s_j$ (элемент матрицы $A$)\n",
    "* $\\normalsize b_{k,j}=p(o_k|s_j)$ - вероятность того, что при скрытом состоянии $s_j$ находится слово $o_k$(элемент матрицы $B$)\n",
    "\n",
    "$$\\normalsize x_t \\in O, y_t \\in S$$\n",
    "$\\normalsize (x_t, y_t)$ - слово и тег, стоящие на месте $t$ $\\Rightarrow$ \n",
    "* $\\normalsize X$ - последовательность слов\n",
    "* $\\normalsize Y$ - последовательность тегов\n",
    "\n",
    "Требуется построить скрытую марковскую модель (class HiddenMarkovModel) и написать метод fit для настройки всех её параметров с помощью оценок максимального правдоподобия по размеченным данным (последовательности пар слово+тег):\n",
    "\n",
    "- Вероятности переходов между скрытыми состояниями $p(y_t | y_{t - 1})$ посчитайте на основе частот биграмм POS-тегов.\n",
    "\n",
    "\n",
    "- Вероятности эмиссий наблюдаемых состояний $p(x_t | y_t)$ посчитайте на основе частот \"POS-тег - слово\".\n",
    "\n",
    "\n",
    "- Распределение вероятностей начальных состояний $p(y_0)$ задайте равномерным.\n",
    "\n",
    "Пример $X = [x_0, x_1], Y = [y_0, y_1]$:<br><br>\n",
    "вероятность совместного появления данной последовательности слов Х и данной последовательности тегов Y\n",
    "$$p(X, Y) = p(x_0, x_1, y_0, y_1) = p(y_0) \\cdot p(x_0, x_1, y_1 | y_0) = p(y_0) \\cdot p(x_0 | y_0) \\cdot\n",
    "p(x_1, y_1 | x_0, y_0) = \\\\ = p(y_0) \\cdot p(x_0 | y_0) \\cdot p(y_1 | x_0, y_0) \\cdot p(x_1 | x_0, y_0, y_1)\n",
    "= (\\text{в силу условий нашей модели}) = \\\\ = p(y_0) \\cdot p(x_0 | y_0) \\cdot p(y_1 | y_0) \\cdot p(x_1 | y_1) \\Rightarrow$$ <br>\n",
    "Для последовательности длины $n + 1$:<br>\n",
    "$$p(X, Y) = p(x_0 ... x_{n - 1}, y_0 ... y_{n - 1}) \\cdot p(y_n | y_{n - 1}) \\cdot p(x_n | y_n)$$"
   ]
  },
  {
   "cell_type": "markdown",
   "metadata": {
    "id": "tysPoe5rwC6I"
   },
   "source": [
    "#### Алгоритм Витерби для применения модели\n",
    "\n",
    "\n",
    "Требуется написать метод .predict для определения частей речи на тестовой выборке. Чтобы использовать обученную модель на новых данных, необходимо реализовать алгоритм Витерби. Это алгоритм динамиеского программирования, с помощью которого мы будем находить наиболее вероятную последовательность скрытых состояний модели для фиксированной последовательности слов:\n",
    "\n",
    "$$ \\hat{Y} = \\arg \\max_{Y} p(Y|X) = \\arg \\max_{Y} p(Y, X) $$\n",
    "\n",
    "Пусть $\\normalsize Q_{t,s}$ - самая вероятная последовательность скрытых состояний длины $t$ с окончанием в состоянии $s$. $\\normalsize q_{t, s}$ - вероятность этой последовательности.\n",
    "$$(1)\\: \\normalsize q_{t,s} = \\max_{s'} q_{t - 1, s'} \\cdot p(s | s') \\cdot p(o_t | s)$$\n",
    "$\\normalsize Q_{t,s}$ можно восстановить по argmax-ам."
   ]
  },
  {
   "cell_type": "code",
   "execution_count": 216,
   "metadata": {
    "id": "QpEXdhOfwC6J"
   },
   "outputs": [],
   "source": [
    "class HiddenMarkovModel:    \n",
    "    def __init__(self):\n",
    "    \n",
    "        pass\n",
    "        \n",
    "    def fit(self, train_tokens_tags_list):\n",
    "        \"\"\"\n",
    "        train_tokens_tags_list: массив предложений пар слово-тег (выборка для train) \n",
    "        \"\"\"\n",
    "        tags = [tag for sent in train_tokens_tags_list\n",
    "                for (word, tag) in sent]\n",
    "        words = [word for sent in train_tokens_tags_list\n",
    "                 for (word, tag) in sent]\n",
    "       \n",
    "        tag_num = pd.Series(FreqDist(pd.Series(tags).sort_values(ascending=False))).sort_index()\n",
    "        word_num = pd.Series(FreqDist(pd.Series(words).sort_values(ascending=False))).sort_values(ascending=False)\n",
    "         \n",
    "        self.tags = tag_num.index\n",
    "        self.words = word_num.index\n",
    "        \n",
    "        A = pd.DataFrame({'{}'.format(tag) : [0] * len(tag_num) for tag in tag_num.index}, index=tag_num.index)\n",
    "        B = pd.DataFrame({'{}'.format(tag) : [0] * len(word_num) for tag in tag_num.index}, index=word_num.index)\n",
    "        \n",
    "        # Вычисляем матрицу A и B по частотам слов и тегов\n",
    "        \n",
    "        # sent - предложение\n",
    "        # sent[i][0] - i слово в этом предложении, sent[i][1] - i тег в этом предложении\n",
    "        for sent in train_tokens_tags_list:\n",
    "            for i in range(len(sent)):\n",
    "                B.loc[sent[i][0], sent[i][1]] += 1 # текущая i-пара слово-тег (обновите матрицу B аналогично A)\n",
    "                if len(sent) - 1 != i: # для последнего тега нет следующего тега\n",
    "                    A.loc[sent[i][1], sent[i + 1][1]] += 1 # пара тег-тег\n",
    "                \n",
    "        \n",
    "        # переходим к вероятностям\n",
    "        \n",
    "        # нормируем по строке, то есть по всем всевозможным следующим тегам\n",
    "        A = A.divide(A.sum(axis=1), axis=0)\n",
    "        \n",
    "        # нормируем по столбцу, то есть по всем всевозможным текущим словам\n",
    "        B = B / np.sum(B, axis=0)\n",
    "        \n",
    "        self.A = A\n",
    "        self.B = B\n",
    "        \n",
    "        return self\n",
    "        \n",
    "    \n",
    "    def predict(self, test_tokens_list):\n",
    "        \"\"\"\n",
    "        test_tokens_list : массив предложений пар слово-тег (выборка для test)\n",
    "        \"\"\"\n",
    "        predict_tags = OrderedDict({i : np.array([]) for i in range(len(test_tokens_list))})\n",
    "        \n",
    "        for i_sent in range(len(test_tokens_list)): # итеририумся по предложениям\n",
    "            \n",
    "            current_sent = test_tokens_list[i_sent] # текущее предложение\n",
    "            len_sent = len(current_sent) # длина предложения \n",
    "            \n",
    "            q = np.zeros(shape=(len_sent + 1, len(self.tags)))\n",
    "            q[0] = 1 # нулевое состояние (равномерная инициализация по всем s)\n",
    "            back_point = np.zeros(shape=(len_sent + 1, len(self.tags))) # # argmax\n",
    "\n",
    "            # one iteration fills row q[t]\n",
    "            for t in range(len_sent): # итерируемся по словам предложения\n",
    "\n",
    "                # если мы не встречали такое слово в обучении, то вместо него будет \n",
    "                # самое популярное слово с самым популярным тегом (вопрос 2)\n",
    "                if current_sent[t] not in self.words:\n",
    "                    current_sent[t] = most_pop_wordtag[0]\n",
    "                \n",
    "                # через max выбираем следующий тег\n",
    "                for i_s in range(len(self.tags)): # iterations over tag values (here index of tag to correspond to matrix q columns)\n",
    "\n",
    "                    s = self.tags[i_s] \n",
    "\n",
    "                    # формула (1)\n",
    "                    q[t + 1][i_s] = np.max(q[t] * \n",
    "                        self.A.loc[:, s] *                           \n",
    "                        self.B.loc[current_sent[t], s]) \n",
    "                    \n",
    "                    # argmax формула(1)\n",
    "                    \n",
    "                    # argmax, чтобы восстановить последовательность тегов\n",
    "                    back_point[t + 1][i_s] = (q[t] * self.A.loc[:, s] * \n",
    "                        self.B.loc[current_sent[t],s]).reset_index()[s].idxmax() # индекс \n",
    "          \n",
    "\n",
    "            back_point = back_point.astype('int')\n",
    "            \n",
    "            # выписываем теги, меняя порядок на реальный\n",
    "            back_tag = deque()\n",
    "            current_tag = np.argmax(q[len_sent])\n",
    "            for t in range(len_sent, 0, -1):\n",
    "                back_tag.appendleft(self.tags[current_tag])\n",
    "                current_tag = back_point[t, current_tag]\n",
    "             \n",
    "            predict_tags[i_sent] = np.array(back_tag)\n",
    "        \n",
    "        \n",
    "        return predict_tags                 "
   ]
  },
  {
   "cell_type": "markdown",
   "metadata": {
    "id": "y0BLgsWkwC6M"
   },
   "source": [
    "Обучите скрытую марковскую модель:"
   ]
  },
  {
   "cell_type": "code",
   "execution_count": 217,
   "metadata": {
    "id": "ZcSoyUAxwC6M"
   },
   "outputs": [],
   "source": [
    "my_model = HiddenMarkovModel()"
   ]
  },
  {
   "cell_type": "code",
   "execution_count": 218,
   "metadata": {
    "colab": {
     "base_uri": "https://localhost:8080/",
     "height": 35
    },
    "id": "Zy_UL9pKnZyg",
    "outputId": "66c3ad42-c382-4e7e-eb38-65dd5b34ac8e"
   },
   "outputs": [
    {
     "data": {
      "text/plain": [
       "<__main__.HiddenMarkovModel at 0x7f35c3492320>"
      ]
     },
     "execution_count": 218,
     "metadata": {
      "tags": []
     },
     "output_type": "execute_result"
    }
   ],
   "source": [
    "my_model.fit(train_sents)"
   ]
  },
  {
   "cell_type": "markdown",
   "metadata": {
    "id": "FeVNt19kwC6P"
   },
   "source": [
    "Проверьте работу реализованного алгоритма на следующих модельных примерах, проинтерпретируйте результат.\n",
    "\n",
    "- 'He can stay'\n",
    "- 'a cat and a dog'\n",
    "- 'I have a television'\n",
    "- 'My favourite character'"
   ]
  },
  {
   "cell_type": "code",
   "execution_count": 93,
   "metadata": {
    "id": "cMJErf7NwC6Q"
   },
   "outputs": [],
   "source": [
    "sents = [['He', 'can', 'stay'], ['a', 'cat', 'and', 'a', 'dog'], ['I', 'have', 'a', 'television'],\n",
    "         ['My', 'favourite', 'character']]"
   ]
  },
  {
   "cell_type": "code",
   "execution_count": 94,
   "metadata": {
    "id": "l8zoed5l_aMP"
   },
   "outputs": [],
   "source": [
    "predictions = my_model.predict(sents)"
   ]
  },
  {
   "cell_type": "code",
   "execution_count": 95,
   "metadata": {
    "colab": {
     "base_uri": "https://localhost:8080/",
     "height": 90
    },
    "id": "iqtdkcTv_yGc",
    "outputId": "7c6d59b3-6062-4865-b48e-518d2e87c915"
   },
   "outputs": [
    {
     "data": {
      "text/plain": [
       "OrderedDict([(0, array(['NOUN', 'VERB', 'VERB'], dtype='<U4')),\n",
       "             (1, array(['DET', 'NOUN', 'CONJ', 'DET', 'NOUN'], dtype='<U4')),\n",
       "             (2, array(['NOUN', 'VERB', 'DET', 'NOUN'], dtype='<U4')),\n",
       "             (3, array(['NOUN', 'NOUN', 'NOUN'], dtype='<U4'))])"
      ]
     },
     "execution_count": 95,
     "metadata": {
      "tags": []
     },
     "output_type": "execute_result"
    }
   ],
   "source": [
    "predictions"
   ]
  },
  {
   "cell_type": "code",
   "execution_count": 109,
   "metadata": {
    "colab": {
     "base_uri": "https://localhost:8080/",
     "height": 90
    },
    "id": "mOFic6sdiwhz",
    "outputId": "47e4d328-9bd6-45f4-e962-ac3198743cd9"
   },
   "outputs": [
    {
     "name": "stdout",
     "output_type": "stream",
     "text": [
      "[('time', 'NOUN'), ('can', 'VERB'), ('stay', 'VERB')]\n",
      "[('a', 'DET'), ('cat', 'NOUN'), ('and', 'CONJ'), ('a', 'DET'), ('dog', 'NOUN')]\n",
      "[('time', 'NOUN'), ('have', 'VERB'), ('a', 'DET'), ('television', 'NOUN')]\n",
      "[('time', 'NOUN'), ('time', 'NOUN'), ('character', 'NOUN')]\n"
     ]
    }
   ],
   "source": [
    "for i in predictions:\n",
    "  print(list(zip(sents[i], predictions[i])))"
   ]
  },
  {
   "cell_type": "markdown",
   "metadata": {
    "id": "B8FIPmVFkYbv"
   },
   "source": [
    "Интерпретация результатов предсказаний для sents. \n",
    "\n",
    "\n",
    "Поскольку в train-выборке не оказалось некоторых слов (напр., he, I, my, favourite), \n",
    "они были замещены наиболее полулярным словом с наиболее популярным тегом, соответственно \n",
    "и часть речи была предсказана для этого популярного слова\n"
   ]
  },
  {
   "cell_type": "markdown",
   "metadata": {
    "id": "suDCwbGMwC6T"
   },
   "source": [
    " Какой тег получили для слова `can`?"
   ]
  },
  {
   "cell_type": "code",
   "execution_count": 96,
   "metadata": {
    "colab": {
     "base_uri": "https://localhost:8080/",
     "height": 35
    },
    "id": "ReHeG3IjwC6U",
    "outputId": "1847f43e-4062-4fe8-aced-b12bd7ab348c"
   },
   "outputs": [
    {
     "data": {
      "application/vnd.google.colaboratory.intrinsic+json": {
       "type": "string"
      },
      "text/plain": [
       "'VERB'"
      ]
     },
     "execution_count": 96,
     "metadata": {
      "tags": []
     },
     "output_type": "execute_result"
    }
   ],
   "source": [
    "predictions[0][1]"
   ]
  },
  {
   "cell_type": "markdown",
   "metadata": {
    "id": "ObAslurlwC6X"
   },
   "source": [
    "Какой тег получили для слова `favourite`?"
   ]
  },
  {
   "cell_type": "code",
   "execution_count": 97,
   "metadata": {
    "colab": {
     "base_uri": "https://localhost:8080/",
     "height": 35
    },
    "id": "94crVrrXwC6Y",
    "outputId": "7fec590c-3c19-4970-840f-47c7af731ea6"
   },
   "outputs": [
    {
     "data": {
      "application/vnd.google.colaboratory.intrinsic+json": {
       "type": "string"
      },
      "text/plain": [
       "'NOUN'"
      ]
     },
     "execution_count": 97,
     "metadata": {
      "tags": []
     },
     "output_type": "execute_result"
    }
   ],
   "source": [
    "predictions[3][1]"
   ]
  },
  {
   "cell_type": "markdown",
   "metadata": {
    "id": "YPC4NZ4HwC6a"
   },
   "source": [
    "Применим модель к отложенной выборке Брауновского корпуса и подсчитайте точность определения тегов (accuracy)"
   ]
  },
  {
   "cell_type": "code",
   "execution_count": 98,
   "metadata": {
    "id": "-7aioBc1wC6b"
   },
   "outputs": [],
   "source": [
    "def accuracy_score(model, sents):\n",
    "    true_pred = 0\n",
    "    num_pred = 0\n",
    "\n",
    "    for sent in sents:\n",
    "        tags = [tag for (word, tag) in sent]\n",
    "        words = [word for (word, tag) in sent]\n",
    "\n",
    "        outputs = model.predict([words])[0]\n",
    "\n",
    "        true_pred += np.sum([pred_tag == true_tag for (pred_tag, true_tag) in zip(outputs, tags)])\n",
    "        num_pred += len(outputs)\n",
    "    print(\"Accuracy:\", true_pred / num_pred * 100, '%')"
   ]
  },
  {
   "cell_type": "code",
   "execution_count": 99,
   "metadata": {
    "colab": {
     "base_uri": "https://localhost:8080/",
     "height": 35
    },
    "id": "roesKrPCcMbp",
    "outputId": "88483941-3f67-4542-de24-3596ae5d6623"
   },
   "outputs": [
    {
     "name": "stdout",
     "output_type": "stream",
     "text": [
      "Accuracy: 96.26295331104619 %\n"
     ]
    }
   ],
   "source": [
    "# точность на всей выборке\n",
    "accuracy_score(my_model, test_sents)"
   ]
  },
  {
   "cell_type": "code",
   "execution_count": 219,
   "metadata": {
    "colab": {
     "base_uri": "https://localhost:8080/",
     "height": 35
    },
    "id": "jMFXeC2PzD-P",
    "outputId": "0561cecc-878b-4f8a-9faf-a7db635b25f7"
   },
   "outputs": [
    {
     "name": "stdout",
     "output_type": "stream",
     "text": [
      "Accuracy: 88.82847256549678 %\n"
     ]
    }
   ],
   "source": [
    "# точность на категории humor\n",
    "accuracy_score(my_model, test_sents)"
   ]
  },
  {
   "cell_type": "markdown",
   "metadata": {
    "id": "FpAgfZRTwC6h"
   },
   "source": [
    "## DefaultTagger"
   ]
  },
  {
   "cell_type": "markdown",
   "metadata": {
    "id": "9b4cPKyiwC6j"
   },
   "source": [
    "Какое качество бы получили, если бы предсказывали любой тег, как самый популярный тег на выборке train?"
   ]
  },
  {
   "cell_type": "code",
   "execution_count": 101,
   "metadata": {
    "colab": {
     "base_uri": "https://localhost:8080/",
     "height": 35
    },
    "id": "pM28MT0gcMb2",
    "outputId": "a2af9124-11e9-4d72-d149-69b3318df46c"
   },
   "outputs": [
    {
     "name": "stdout",
     "output_type": "stream",
     "text": [
      "Accuracy: 23.47521651004238 %\n"
     ]
    }
   ],
   "source": [
    "true_pred = 0\n",
    "num_pred = 0\n",
    "\n",
    "for sent in test_sents:\n",
    "    tags = np.array([tag for (word, tag) in sent])\n",
    "    words = np.array([word for (word, tag) in sent])\n",
    "\n",
    "    #outputs = model.predict([words])[0]\n",
    "\n",
    "    true_pred += np.sum(['NOUN'] * len(words) == tags)\n",
    "    num_pred += len(words)\n",
    "print(\"Accuracy:\", true_pred / num_pred * 100, '%')"
   ]
  },
  {
   "cell_type": "markdown",
   "metadata": {
    "id": "Td-0Pe0vwC6k"
   },
   "source": [
    "Можно испоьзовать DefaultTagger(метод tag для предсказания частей речи предложения) или можетено преобразовать код выше"
   ]
  },
  {
   "cell_type": "code",
   "execution_count": 102,
   "metadata": {
    "id": "NfZYlMxJwC6m"
   },
   "outputs": [],
   "source": [
    "from nltk.tag import DefaultTagger\n",
    "default_tagger = DefaultTagger('NOUN')"
   ]
  },
  {
   "cell_type": "code",
   "execution_count": 103,
   "metadata": {
    "colab": {
     "base_uri": "https://localhost:8080/",
     "height": 35
    },
    "id": "9CXKibo_cMcB",
    "outputId": "8c47e547-e655-4ff6-89fa-558666ce0cb1"
   },
   "outputs": [
    {
     "name": "stdout",
     "output_type": "stream",
     "text": [
      "Accuracy: 23.47521651004238 %\n"
     ]
    }
   ],
   "source": [
    "true_pred = 0\n",
    "num_pred = 0\n",
    "\n",
    "for sent in test_sents:\n",
    "    tags = np.array([tag for (word, tag) in sent])\n",
    "    words = np.array([word for (word, tag) in sent])\n",
    "    \n",
    "    tagged_sent = default_tagger.tag(words)\n",
    "    outputs = [tag for token, tag in tagged_sent]\n",
    "    \n",
    "    true_pred += np.sum(outputs == tags)\n",
    "    num_pred += len(words)\n",
    "    \n",
    "print(\"Accuracy:\", true_pred / num_pred * 100, '%')"
   ]
  },
  {
   "cell_type": "markdown",
   "metadata": {
    "id": "lz7Q3BfbwC6o"
   },
   "source": [
    "## Модель Стенфорда"
   ]
  },
  {
   "cell_type": "markdown",
   "metadata": {
    "id": "eKYPKJYLwC6p"
   },
   "source": [
    "Скачаем предобученную модель от Стэнфорда: https://nlp.stanford.edu/software/tagger.shtml и применим к тестовым данным. \n",
    "Не забудьтеем преобразовать систему тэгов из 'en-ptb' в 'universal' с помощью функции map_tag."
   ]
  },
  {
   "cell_type": "code",
   "execution_count": null,
   "metadata": {
    "colab": {
     "base_uri": "https://localhost:8080/",
     "height": 204
    },
    "id": "d-wXxIQEUy-K",
    "outputId": "208b6627-21ab-4d56-f413-8769847dd222"
   },
   "outputs": [
    {
     "name": "stdout",
     "output_type": "stream",
     "text": [
      "--2020-10-28 08:32:10--  https://nlp.stanford.edu/software/stanford-postagger-2018-10-16.zip\n",
      "Resolving nlp.stanford.edu (nlp.stanford.edu)... 171.64.67.140\n",
      "Connecting to nlp.stanford.edu (nlp.stanford.edu)|171.64.67.140|:443... connected.\n",
      "HTTP request sent, awaiting response... 200 OK\n",
      "Length: 26260468 (25M) [application/zip]\n",
      "Saving to: ‘stanford-postagger-2018-10-16.zip’\n",
      "\n",
      "stanford-postagger- 100%[===================>]  25.04M  21.1MB/s    in 1.2s    \n",
      "\n",
      "2020-10-28 08:32:11 (21.1 MB/s) - ‘stanford-postagger-2018-10-16.zip’ saved [26260468/26260468]\n",
      "\n"
     ]
    }
   ],
   "source": [
    "!wget https://nlp.stanford.edu/software/stanford-postagger-2018-10-16.zip"
   ]
  },
  {
   "cell_type": "code",
   "execution_count": null,
   "metadata": {
    "colab": {
     "base_uri": "https://localhost:8080/",
     "height": 34
    },
    "id": "w-w_hf1ZVkDm",
    "outputId": "17c2bdeb-765b-455c-91d7-9a5f93091ea5"
   },
   "outputs": [
    {
     "name": "stdout",
     "output_type": "stream",
     "text": [
      "sample_data  stanford-postagger-2018-10-16  stanford-postagger-2018-10-16.zip\n"
     ]
    }
   ],
   "source": [
    "!ls"
   ]
  },
  {
   "cell_type": "code",
   "execution_count": null,
   "metadata": {
    "colab": {
     "base_uri": "https://localhost:8080/",
     "height": 408
    },
    "id": "Uab7Fs1_Vcx-",
    "outputId": "de927fd1-5366-4491-9d55-13c5b33f5487"
   },
   "outputs": [
    {
     "name": "stdout",
     "output_type": "stream",
     "text": [
      "Archive:  stanford-postagger-2018-10-16.zip\n",
      "   creating: stanford-postagger-2018-10-16/\n",
      "  inflating: stanford-postagger-2018-10-16/README.txt  \n",
      "  inflating: stanford-postagger-2018-10-16/sample-input.txt  \n",
      "  inflating: stanford-postagger-2018-10-16/build.xml  \n",
      "  inflating: stanford-postagger-2018-10-16/stanford-postagger.sh  \n",
      "  inflating: stanford-postagger-2018-10-16/stanford-postagger-3.9.2-javadoc.jar  \n",
      "  inflating: stanford-postagger-2018-10-16/stanford-postagger-gui.sh  \n",
      "  inflating: stanford-postagger-2018-10-16/stanford-postagger.jar  \n",
      "  inflating: stanford-postagger-2018-10-16/stanford-postagger.bat  \n",
      "  inflating: stanford-postagger-2018-10-16/sample-output.txt  \n",
      "  inflating: stanford-postagger-2018-10-16/stanford-postagger-3.9.2-sources.jar  \n",
      "  inflating: stanford-postagger-2018-10-16/TaggerDemo2.java  \n",
      "  inflating: stanford-postagger-2018-10-16/stanford-postagger-gui.bat  \n",
      "   creating: stanford-postagger-2018-10-16/models/\n",
      "  inflating: stanford-postagger-2018-10-16/models/english-bidirectional-distsim.tagger.props  \n",
      "  inflating: stanford-postagger-2018-10-16/models/README-Models.txt  \n",
      "  inflating: stanford-postagger-2018-10-16/models/english-bidirectional-distsim.tagger  \n",
      "  inflating: stanford-postagger-2018-10-16/models/english-left3words-distsim.tagger  \n",
      "  inflating: stanford-postagger-2018-10-16/models/english-left3words-distsim.tagger.props  \n",
      "  inflating: stanford-postagger-2018-10-16/TaggerDemo.java  \n",
      "  inflating: stanford-postagger-2018-10-16/stanford-postagger-3.9.2.jar  \n",
      "  inflating: stanford-postagger-2018-10-16/LICENSE.txt  \n"
     ]
    }
   ],
   "source": [
    "!unzip stanford-postagger-2018-10-16.zip"
   ]
  },
  {
   "cell_type": "code",
   "execution_count": null,
   "metadata": {
    "colab": {
     "base_uri": "https://localhost:8080/",
     "height": 102
    },
    "id": "yW-PR54QwC6p",
    "outputId": "1957a6da-bfc9-47e9-f01d-d59eed62b7cd",
    "scrolled": false
   },
   "outputs": [
    {
     "name": "stderr",
     "output_type": "stream",
     "text": [
      "/usr/local/lib/python3.6/dist-packages/nltk/tag/stanford.py:149: DeprecationWarning: \n",
      "The StanfordTokenizer will be deprecated in version 3.2.5.\n",
      "Please use \u001b[91mnltk.tag.corenlp.CoreNLPPOSTagger\u001b[0m or \u001b[91mnltk.tag.corenlp.CoreNLPNERTagger\u001b[0m instead.\n",
      "  super(StanfordPOSTagger, self).__init__(*args, **kwargs)\n"
     ]
    },
    {
     "name": "stdout",
     "output_type": "stream",
     "text": [
      "Ответ:  ['PRON', 'VERB', 'DET', 'NOUN']\n"
     ]
    }
   ],
   "source": [
    "from nltk.tag.stanford import StanfordPOSTagger\n",
    "from nltk.tag.mapping import map_tag\n",
    "\n",
    "# используем путь до jar и до model\n",
    "jar = './stanford-postagger-2018-10-16/stanford-postagger-3.9.2.jar'\n",
    "model = './stanford-postagger-2018-10-16/models/english-bidirectional-distsim.tagger'\n",
    "stanford_tagger = StanfordPOSTagger(model, jar, encoding='utf8')\n",
    "\n",
    "# проверим на предложении\n",
    "tagged_sent = stanford_tagger.tag(['I', 'bear', 'a', 'bag'])\n",
    "print('Ответ: ', [map_tag('en-ptb', 'universal', tag) for token, tag in tagged_sent])"
   ]
  },
  {
   "cell_type": "code",
   "execution_count": null,
   "metadata": {
    "colab": {
     "base_uri": "https://localhost:8080/",
     "height": 34
    },
    "id": "GBd3RgqVwC6s",
    "outputId": "55d8c1e6-dfd3-4edd-9b0a-77927f1f8639"
   },
   "outputs": [
    {
     "name": "stdout",
     "output_type": "stream",
     "text": [
      "Accuracy: 89.42165101334652 %\n"
     ]
    }
   ],
   "source": [
    "true_pred = 0\n",
    "num_pred = 0\n",
    "\n",
    "for sent in test_sents:\n",
    "    tags = np.array([tag for (word, tag) in sent])\n",
    "    words = np.array([word for (word, tag) in sent])\n",
    "    \n",
    "    tagged_sent = stanford_tagger.tag(words)\n",
    "    outputs = [map_tag('en-ptb', 'universal', tag) for token, tag in tagged_sent]\n",
    "    \n",
    "    true_pred += np.sum(outputs == tags)\n",
    "    num_pred += len(words)\n",
    "    \n",
    "print(\"Accuracy:\", true_pred / num_pred * 100, '%')"
   ]
  },
  {
   "cell_type": "markdown",
   "metadata": {
    "id": "5w1W5hSkcMcV"
   },
   "source": [
    "## BiLSTMTagger"
   ]
  },
  {
   "cell_type": "markdown",
   "metadata": {
    "id": "mm1-S3t2cMcW"
   },
   "source": [
    "### Подготовка данных"
   ]
  },
  {
   "cell_type": "markdown",
   "metadata": {
    "id": "GayTl7mUcMcX"
   },
   "source": [
    "Изменим структуру данных"
   ]
  },
  {
   "cell_type": "code",
   "execution_count": 204,
   "metadata": {
    "colab": {
     "base_uri": "https://localhost:8080/",
     "height": 55
    },
    "id": "CnXcI64fxoj4",
    "outputId": "119cbdf6-75b5-43c2-ef77-37cedb66368e",
    "scrolled": false
   },
   "outputs": [
    {
     "name": "stdout",
     "output_type": "stream",
     "text": [
      "[('The', 'Fulton', 'County', 'Grand', 'Jury', 'said', 'Friday', 'an', 'investigation', 'of', \"Atlanta's\", 'recent', 'primary', 'election', 'produced', '``', 'no', 'evidence', \"''\", 'that', 'any', 'irregularities', 'took', 'place', '.'), ('DET', 'NOUN', 'NOUN', 'ADJ', 'NOUN', 'VERB', 'NOUN', 'DET', 'NOUN', 'ADP', 'NOUN', 'ADJ', 'NOUN', 'NOUN', 'VERB', '.', 'DET', 'NOUN', '.', 'ADP', 'DET', 'NOUN', 'VERB', 'NOUN', '.')]\n"
     ]
    }
   ],
   "source": [
    "pos_data = [list(zip(*sent)) for sent in brown_tagged_sents]\n",
    "print(pos_data[0])"
   ]
  },
  {
   "cell_type": "code",
   "execution_count": 205,
   "metadata": {
    "id": "gvFlzrYnxokE"
   },
   "outputs": [],
   "source": [
    "from torchtext.data import Field, BucketIterator\n",
    "import torchtext\n",
    "\n",
    "# наши поля\n",
    "WORD = Field(lower=True) \n",
    "TAG = Field(unk_token=None) # все токены нам известны\n",
    "\n",
    "# создаем примеры\n",
    "examples = []\n",
    "for words, tags in pos_data:\n",
    "    examples.append(torchtext.data.Example.fromlist([list(words), list(tags)], fields=[('words', WORD), ('tags', TAG)]))"
   ]
  },
  {
   "cell_type": "markdown",
   "metadata": {
    "id": "tjl6u6cpOc1u"
   },
   "source": [
    "Вот один наш пример:"
   ]
  },
  {
   "cell_type": "code",
   "execution_count": null,
   "metadata": {
    "colab": {
     "base_uri": "https://localhost:8080/",
     "height": 54
    },
    "id": "dnrzktytN9rL",
    "outputId": "3a6feddf-73ec-4e6a-b35a-cf6f1c6ed737"
   },
   "outputs": [
    {
     "name": "stdout",
     "output_type": "stream",
     "text": [
      "{'words': ['it', 'was', 'among', 'these', 'that', 'hinkle', 'identified', 'a', 'photograph', 'of', 'barco', '!', '!'], 'tags': ['PRON', 'VERB', 'ADP', 'DET', 'ADP', 'NOUN', 'VERB', 'DET', 'NOUN', 'ADP', 'NOUN', '.', '.']}\n"
     ]
    }
   ],
   "source": [
    "print(vars(examples[0]))"
   ]
  },
  {
   "cell_type": "markdown",
   "metadata": {
    "id": "nUhTrWCWcMcj"
   },
   "source": [
    "Теперь формируем наш датасет"
   ]
  },
  {
   "cell_type": "code",
   "execution_count": 206,
   "metadata": {
    "colab": {
     "base_uri": "https://localhost:8080/",
     "height": 72
    },
    "id": "LGKkbZUIxokO",
    "outputId": "bdb3f0f7-81ee-475a-da05-c7263e707a81",
    "scrolled": true
   },
   "outputs": [
    {
     "name": "stdout",
     "output_type": "stream",
     "text": [
      "Number of training examples: 45872\n",
      "Number of validation examples: 5734\n",
      "Number of testing examples: 5734\n"
     ]
    }
   ],
   "source": [
    "# кладем примеры в наш датасет\n",
    "dataset = torchtext.data.Dataset(examples, fields=[('words', WORD), ('tags', TAG)])\n",
    "\n",
    "train_data, valid_data, test_data = dataset.split(split_ratio=[0.8, 0.1, 0.1])\n",
    "\n",
    "print(f\"Number of training examples: {len(train_data.examples)}\")\n",
    "print(f\"Number of validation examples: {len(valid_data.examples)}\")\n",
    "print(f\"Number of testing examples: {len(test_data.examples)}\")"
   ]
  },
  {
   "cell_type": "markdown",
   "metadata": {
    "id": "T89unpppcMcp"
   },
   "source": [
    "Построим словари. Параметр `min_freq` выберем сами. При построении словаря используем только **train**"
   ]
  },
  {
   "cell_type": "code",
   "execution_count": 207,
   "metadata": {
    "colab": {
     "base_uri": "https://localhost:8080/",
     "height": 110
    },
    "id": "tZwkwhlrxoka",
    "outputId": "0be93e60-a4fb-4958-fcb2-5569c2c149be",
    "scrolled": true
   },
   "outputs": [
    {
     "name": "stdout",
     "output_type": "stream",
     "text": [
      "Unique tokens in source (ru) vocabulary: 44814\n",
      "Unique tokens in target (en) vocabulary: 13\n",
      "['<unk>', 'got', 'economic', 'followed', 'consider', 'share', 'follow', 'event', 'fourth', 'tom', 'palmer', 'remove', 'expenditures', 'agricultural', 'neutral', 'receiving', 'yard', 'symphony', 'muscles', 'encounter', 'signals', 'balanced', 'complained', 'convenient', \"women's\", 'sauce', 'phrases', 'farming', 'adventures', 'monopoly', 'chorus', 'physician', 'cereal', 'mays', '$100', 'honestly', 'squeeze', 'conservatism', 'max', 'strained', 'braque', 'grief', 'pamphlets', 'tan', 'bosom', 'engagements', 'linger', 'roebuck', 'wholesale', 'carpenter', 'enactment', 'jointly', 'preferable', 'strengthened', 'abreast', 'careless', 'disregard', 'greeks', 'long-run', 'photographers', 'servo', 'transactions', 'accidentally', 'bishops', 'corinthian', 'englishmen', 'grafton', 'italians', 'misses', 'platinum', 'rossoff', 'strengths', 'unhealthy', '1920s', 'arbuckle', 'borderline', 'claws', 'cupful', 'dozed', 'felicity', 'grants-in-aid', 'immoral', 'kitchenette', 'melodramatic', 'obscurity', 'polyethylene', 'redoute', 'self-examination', \"star's\", 'traceable', 'vivacious', '1780', 'accretion', 'appended', 'beatings', 'branched', 'catches', 'colquitt', 'counseled', 'delaney', 'domed', 'engraving', 'fer', 'fullback', 'guiana', 'homeowners', 'inducted', 'julep', 'lightest', 'mathias', 'monty', 'oases', 'pangs', 'planters', 'psalm', \"region's\", 'rustle', 'shapely', 'sourly', 'submachine', 'thermocouple', 'unacquainted', 'vittorio', 'wreaths', '$43.50', '10.6', '1731', '237%', '387', '601', \"abel's\", 'advisedly', 'all-too-brief', 'annie', 'aristocratically', 'auschwitz', \"bari's\", 'belowground', \"bjerre's\", 'bon', 'brewed', 'bundy', 'cams', 'catskills', 'chest-back-shoulder', \"cleota's\", 'colour-prints', 'connects', 'counter-clockwise', 'crystallizing', 'deadheads', 'deployed', 'dinosaurs', 'docketed', 'dryfoos', 'ekwanok', 'ensuring', 'ex-schoolteacher', \"falcons'\", 'fielded', 'flitting', 'forty-year', 'furled', 'georgi', 'gourmets', 'guardedness', 'handicraftsman', 'hebrews', 'hirschey', 'howry', 'immunoelectrophoresis', \"infant's\", 'intimal', \"jenni's\", 'kayo', 'kuhn', 'leavenworth', 'linguistically', 'low-flying', 'makeshifts', \"material's\", 'merest', 'misbegotten', \"morris'\", 'myth-making', 'newtown', 'nonprofit', 'offenders', 'ostracism', 'paid-for', 'patrick', 'pestle', 'plainclothes', 'portant', 'pressure-measuring', 'pseudo-thinking', 'r-warren', 'rear-guard', 'reiterating', 'reunions', 'role-experimentation', 'sacrificed', 'schoolgirl', 'self-interest', 'shari', 'signifies', \"slope's\", 'somatic', 'spring-joints', 'stiffer', 'subrogation', \"suvorov's\", 'tanny', \"th'\", 'tibialis', 'toured', 'truculence', 'unanswered', 'unlashed', 'uruguay', 'vindictive', 'wastrel', 'whitewashed', 'world-shattering', 'ziraldo']\n",
      "['<pad>', 'NOUN', 'VERB', '.', 'ADP', 'DET', 'ADJ', 'ADV', 'PRON', 'CONJ', 'PRT', 'NUM', 'X']\n"
     ]
    }
   ],
   "source": [
    "WORD.build_vocab(train_data, min_freq=1)\n",
    "TAG.build_vocab(train_data)\n",
    "\n",
    "print(f\"Unique tokens in source (ru) vocabulary: {len(WORD.vocab)}\")\n",
    "print(f\"Unique tokens in target (en) vocabulary: {len(TAG.vocab)}\")\n",
    "\n",
    "print(WORD.vocab.itos[::200])\n",
    "print(TAG.vocab.itos)"
   ]
  },
  {
   "cell_type": "code",
   "execution_count": 15,
   "metadata": {
    "colab": {
     "base_uri": "https://localhost:8080/",
     "height": 35
    },
    "id": "vjn07NP-xokl",
    "outputId": "eb0fa7a3-3ce3-41a4-8915-7fc2322ea3b2",
    "scrolled": true
   },
   "outputs": [
    {
     "name": "stdout",
     "output_type": "stream",
     "text": [
      "{'words': ['had', 'only', 'a', 'hope', '.'], 'tags': ['VERB', 'ADV', 'DET', 'NOUN', '.']}\n"
     ]
    }
   ],
   "source": [
    "print(vars(train_data.examples[9]))"
   ]
  },
  {
   "cell_type": "markdown",
   "metadata": {
    "id": "LxgkU4cZcMcz"
   },
   "source": [
    "Посмотрим, с насколько большими предложениями мы имеем дело"
   ]
  },
  {
   "cell_type": "code",
   "execution_count": 208,
   "metadata": {
    "colab": {
     "base_uri": "https://localhost:8080/",
     "height": 281
    },
    "id": "dVpMi1_0xoku",
    "outputId": "d609a58f-d3ca-4b05-ab0c-864dac04564e",
    "scrolled": true
   },
   "outputs": [
    {
     "data": {
      "image/png": "[encoded data removed]",
      "text/plain": [
       "<Figure size 576x288 with 1 Axes>"
      ]
     },
     "metadata": {
      "needs_background": "light",
      "tags": []
     },
     "output_type": "display_data"
    }
   ],
   "source": [
    "length = map(len, [vars(x)['words'] for x in train_data.examples])\n",
    "\n",
    "plt.figure(figsize=[8, 4])\n",
    "plt.title(\"Length distribution in Train data\")\n",
    "plt.hist(list(length), bins=20);"
   ]
  },
  {
   "cell_type": "markdown",
   "metadata": {
    "id": "yi28N2RBcMc5"
   },
   "source": [
    "Для обучения `BiLSTM` лучше использовать colab"
   ]
  },
  {
   "cell_type": "code",
   "execution_count": 209,
   "metadata": {
    "colab": {
     "base_uri": "https://localhost:8080/",
     "height": 35
    },
    "id": "LAGSrqWsxok2",
    "outputId": "5c347312-8a26-4fff-f1b0-f9006d447ac5",
    "scrolled": true
   },
   "outputs": [
    {
     "data": {
      "text/plain": [
       "device(type='cuda')"
      ]
     },
     "execution_count": 209,
     "metadata": {
      "tags": []
     },
     "output_type": "execute_result"
    }
   ],
   "source": [
    "import torch\n",
    "from torch import nn\n",
    "import torch.nn.functional as F\n",
    "import torch.optim as optim\n",
    "\n",
    "device = torch.device('cuda' if torch.cuda.is_available() else 'cpu')\n",
    "device"
   ]
  },
  {
   "cell_type": "markdown",
   "metadata": {
    "id": "2DSWm0UjcMc-"
   },
   "source": [
    "Для более быстрого и устойчивого обучения сгруппируем наши данные по батчам"
   ]
  },
  {
   "cell_type": "code",
   "execution_count": 210,
   "metadata": {
    "id": "dmwAyhNgxok_"
   },
   "outputs": [],
   "source": [
    "# бьем нашу выборку на батч, не забывая сначала отсортировать выборку по длине\n",
    "def _len_sort_key(x):\n",
    "    return len(x.words)\n",
    "\n",
    "BATCH_SIZE = 32\n",
    "\n",
    "train_iterator, valid_iterator, test_iterator = BucketIterator.splits(\n",
    "    (train_data, valid_data, test_data), \n",
    "    batch_size = BATCH_SIZE, \n",
    "    device = device,\n",
    "    sort_key=_len_sort_key\n",
    ")"
   ]
  },
  {
   "cell_type": "code",
   "execution_count": 117,
   "metadata": {
    "colab": {
     "base_uri": "https://localhost:8080/",
     "height": 35
    },
    "id": "6aTjW00nxolI",
    "outputId": "7c63d94d-074e-4c0b-a3f9-faed484e4042"
   },
   "outputs": [
    {
     "data": {
      "text/plain": [
       "[1434, 180, 180]"
      ]
     },
     "execution_count": 117,
     "metadata": {
      "tags": []
     },
     "output_type": "execute_result"
    }
   ],
   "source": [
    "# посмотрим  на количество батчей\n",
    "list(map(len, [train_iterator, valid_iterator, test_iterator]))"
   ]
  },
  {
   "cell_type": "markdown",
   "metadata": {
    "id": "zyLQsizhcMdI"
   },
   "source": [
    "### Модель и её обучение"
   ]
  },
  {
   "cell_type": "markdown",
   "metadata": {
    "id": "-i9oHzcrcMdJ"
   },
   "source": [
    "Инициализируем нашу модель"
   ]
  },
  {
   "cell_type": "code",
   "execution_count": 211,
   "metadata": {
    "colab": {
     "base_uri": "https://localhost:8080/",
     "height": 126
    },
    "id": "Ff7BLWs_xolS",
    "outputId": "1f85a01a-6cfd-49fd-d91f-459d869491cc",
    "scrolled": true
   },
   "outputs": [
    {
     "data": {
      "text/plain": [
       "LSTMTagger(\n",
       "  (embeddings): Embedding(44814, 100, padding_idx=1)\n",
       "  (dropout): Dropout(p=0.2, inplace=False)\n",
       "  (lstm): LSTM(100, 256, num_layers=2, dropout=0.2, bidirectional=True)\n",
       "  (tag): Linear(in_features=512, out_features=13, bias=True)\n",
       ")"
      ]
     },
     "execution_count": 211,
     "metadata": {
      "tags": []
     },
     "output_type": "execute_result"
    }
   ],
   "source": [
    "class LSTMTagger(nn.Module):\n",
    "\n",
    "    def __init__(self, input_dim, emb_dim, hid_dim, output_dim, dropout, \n",
    "                  pad_idx, bidirectional, n_layers):\n",
    "        super().__init__()\n",
    "        \n",
    "        self.bidirectional = bidirectional\n",
    "        self.embeddings = nn.Embedding(input_dim, emb_dim, padding_idx = pad_idx)\n",
    "        self.dropout = nn.Dropout(p=dropout)\n",
    "        \n",
    "        self.lstm = nn.LSTM(emb_dim, hid_dim, num_layers=n_layers, \n",
    "                          dropout=dropout*(n_layers > 1), bidirectional=self.bidirectional)\n",
    "        # если bidirectional, то предсказываем на основе конкатенации двух hidden\n",
    "        self.tag = nn.Linear((1 + bidirectional) * hid_dim, output_dim)\n",
    "\n",
    "    def forward(self, sent):\n",
    "        \n",
    "        #sent = [sent len, batch size] \n",
    "        # не забываем применить dropout к embedding\n",
    "        embedded = self.embeddings(sent)\n",
    "        embedded = self.dropout(embedded)\n",
    "\n",
    "        #embedded = [sent_len, batch_size, emb_dim]\n",
    "        \n",
    "        output, (_, _) = self.lstm(embedded)\n",
    "        #output = [sent len, batch size, hid dim * n directions]\n",
    "        \n",
    "        output = self.tag(self.dropout(output))\n",
    "\n",
    "        return output\n",
    "        \n",
    "# параметры модели\n",
    "INPUT_DIM = len(WORD.vocab)\n",
    "OUTPUT_DIM = len(TAG.vocab)\n",
    "EMB_DIM = 100\n",
    "HID_DIM = 256\n",
    "DROPOUT = 0.2\n",
    "BIDIRECTIONAL = True\n",
    "N_LAYERS = 2\n",
    "PAD_IDX = WORD.vocab.stoi[WORD.pad_token]\n",
    "\n",
    "\n",
    "model = LSTMTagger(INPUT_DIM, EMB_DIM, HID_DIM, OUTPUT_DIM, \n",
    "                   DROPOUT,  PAD_IDX, BIDIRECTIONAL, N_LAYERS).to(device)\n",
    "\n",
    "# инициализируем веса\n",
    "def init_weights(m):\n",
    "    for name, param in m.named_parameters():\n",
    "        nn.init.uniform_(param, -0.08, 0.08)\n",
    "        \n",
    "model.apply(init_weights)"
   ]
  },
  {
   "cell_type": "markdown",
   "metadata": {
    "id": "EJLqq8IHcMdQ"
   },
   "source": [
    "Подсчитаем количество обучаемых параметров нашей модели"
   ]
  },
  {
   "cell_type": "code",
   "execution_count": 199,
   "metadata": {
    "colab": {
     "base_uri": "https://localhost:8080/",
     "height": 35
    },
    "id": "_Auu53Kdxolm",
    "outputId": "959d8b18-1153-46b3-d9ce-64a0146dc389"
   },
   "outputs": [
    {
     "name": "stdout",
     "output_type": "stream",
     "text": [
      "The model has 19 trainable parameters\n"
     ]
    }
   ],
   "source": [
    "def count_parameters(model):\n",
    "  count = 0\n",
    "  for parameter in model.parameters():\n",
    "    if parameter.requires_grad == True:\n",
    "      count += 1\n",
    "  return count\n",
    "\n",
    "print(f'The model has {count_parameters(model):,} trainable parameters')"
   ]
  },
  {
   "cell_type": "code",
   "execution_count": 212,
   "metadata": {
    "id": "AjD1Y7Rmxolu",
    "scrolled": true
   },
   "outputs": [],
   "source": [
    "PAD_IDX = TAG.vocab.stoi['<pad>']\n",
    "optimizer = optim.Adam(model.parameters(), lr=1e-3)\n",
    "criterion = nn.CrossEntropyLoss(ignore_index = PAD_IDX)\n",
    "\n",
    "def train(model, iterator, optimizer, criterion, clip, train_history=None, valid_history=None):\n",
    "    model.train()\n",
    "    \n",
    "    epoch_loss = 0\n",
    "    history = []\n",
    "    for i, batch in enumerate(iterator):\n",
    "        features = batch.words\n",
    "        target = batch.tags  \n",
    "\n",
    "        optimizer.zero_grad()\n",
    "        \n",
    "        output = model(features)\n",
    "\n",
    "        #tags = [sent len, batch size]\n",
    "        #output = [sent len, batch size, output dim]\n",
    "        \n",
    "        output = output.permute(1, 2, 0)\n",
    "        target = target.permute(1, 0)\n",
    "        \n",
    "        #tags = [batch size, sent len]\n",
    "        #output = [batch size, output dim, sent len]\n",
    "        \n",
    "        loss = criterion(output, target)\n",
    "        \n",
    "        loss.backward()\n",
    "        \n",
    "        # Gradient clipping(решение проблемы взрыва градента), clip - максимальная норма вектора\n",
    "        torch.nn.utils.clip_grad_norm_(model.parameters(), max_norm=clip)\n",
    "        \n",
    "        optimizer.step()\n",
    "        \n",
    "        epoch_loss += loss.item()\n",
    "        \n",
    "        history.append(loss.cpu().data.numpy())\n",
    "        if (i+1)%10==0:\n",
    "            fig, ax = plt.subplots(nrows=1, ncols=2, figsize=(12, 8))\n",
    "\n",
    "            clear_output(True)\n",
    "            ax[0].plot(history, label='train loss')\n",
    "            ax[0].set_xlabel('Batch')\n",
    "            ax[0].set_title('Train loss')\n",
    "            \n",
    "            if train_history is not None:\n",
    "                ax[1].plot(train_history, label='general train history')\n",
    "                ax[1].set_xlabel('Epoch')\n",
    "            if valid_history is not None:\n",
    "                ax[1].plot(valid_history, label='general valid history')\n",
    "            plt.legend()\n",
    "            \n",
    "            plt.show()\n",
    "\n",
    "        \n",
    "    return epoch_loss / len(iterator)\n",
    "\n",
    "def evaluate(model, iterator, criterion):\n",
    "    model.eval()\n",
    "    \n",
    "    epoch_loss = 0\n",
    "    \n",
    "    history = []\n",
    "    \n",
    "    with torch.no_grad():\n",
    "    \n",
    "        for i, batch in enumerate(iterator):\n",
    "            features = batch.words\n",
    "            target = batch.tags\n",
    "\n",
    "            output = model(features)\n",
    "\n",
    "            #tags = [sent len, batch size]\n",
    "            #output = [sent len, batch size, output dim]\n",
    "\n",
    "            output = output.permute(1, 2, 0)\n",
    "            target = target.permute(1, 0)\n",
    "\n",
    "            #tags = [batch size, sent len]\n",
    "            #output = [batch size, output dim, sent len]\n",
    "\n",
    "            loss = criterion(output, target)\n",
    "            \n",
    "            epoch_loss += loss.item()\n",
    "        \n",
    "    return epoch_loss / len(iterator)\n",
    "\n",
    "def epoch_time(start_time, end_time):\n",
    "    elapsed_time = end_time - start_time\n",
    "    elapsed_mins = int(elapsed_time / 60)\n",
    "    elapsed_secs = int(elapsed_time - (elapsed_mins * 60))\n",
    "    return elapsed_mins, elapsed_secs"
   ]
  },
  {
   "cell_type": "code",
   "execution_count": 213,
   "metadata": {
    "colab": {
     "base_uri": "https://localhost:8080/",
     "height": 567
    },
    "id": "TJdXIyTHxol2",
    "outputId": "7a8f84d6-4cb1-4215-f5f9-458d19b8205a",
    "scrolled": false
   },
   "outputs": [
    {
     "data": {
      "image/png": "[encoded data removed]",
      "text/plain": [
       "<Figure size 864x576 with 2 Axes>"
      ]
     },
     "metadata": {
      "needs_background": "light",
      "tags": []
     },
     "output_type": "display_data"
    },
    {
     "name": "stdout",
     "output_type": "stream",
     "text": [
      "Epoch: 03 | Time: 1m 13s\n",
      "\tTrain Loss: 0.042 | Train PPL:   1.043\n",
      "\t Val. Loss: 0.071 |  Val. PPL:   1.074\n"
     ]
    }
   ],
   "source": [
    "import time\n",
    "import math\n",
    "import matplotlib\n",
    "matplotlib.rcParams.update({'figure.figsize': (16, 12), 'font.size': 14})\n",
    "import matplotlib.pyplot as plt\n",
    "%matplotlib inline\n",
    "from IPython.display import clear_output\n",
    "\n",
    "train_history = []\n",
    "valid_history = []\n",
    "\n",
    "N_EPOCHS = 3\n",
    "CLIP = 1.0\n",
    "best_valid_loss = float('inf')\n",
    "\n",
    "for epoch in range(N_EPOCHS):\n",
    "    \n",
    "    start_time = time.time()\n",
    "    \n",
    "    train_loss = train(model, train_iterator, optimizer, criterion, CLIP, train_history, valid_history)\n",
    "    # break\n",
    "    valid_loss = evaluate(model, valid_iterator, criterion)\n",
    "    \n",
    "    end_time = time.time()\n",
    "    \n",
    "    epoch_mins, epoch_secs = epoch_time(start_time, end_time)\n",
    "    \n",
    "    if valid_loss < best_valid_loss:\n",
    "        best_valid_loss = valid_loss\n",
    "        torch.save(model.state_dict(), 'best-val-model.pt')\n",
    "\n",
    "    train_history.append(train_loss)\n",
    "    valid_history.append(valid_loss)\n",
    "    print(f'Epoch: {epoch+1:02} | Time: {epoch_mins}m {epoch_secs}s')\n",
    "    print(f'\\tTrain Loss: {train_loss:.3f} | Train PPL: {math.exp(train_loss):7.3f}')\n",
    "    print(f'\\t Val. Loss: {valid_loss:.3f} |  Val. PPL: {math.exp(valid_loss):7.3f}')"
   ]
  },
  {
   "cell_type": "markdown",
   "metadata": {
    "id": "Fr860UPacMeI"
   },
   "source": [
    "### Применение модели"
   ]
  },
  {
   "cell_type": "code",
   "execution_count": 172,
   "metadata": {
    "id": "5sDAfAq9xol9"
   },
   "outputs": [],
   "source": [
    "def accuracy_model(model, iterator):\n",
    "    model.eval()\n",
    "    \n",
    "    true_pred = 0\n",
    "    num_pred = 0\n",
    "    \n",
    "    with torch.no_grad():\n",
    "        for i, batch in enumerate(iterator):\n",
    "            features = batch.words\n",
    "            target = batch.tags\n",
    "\n",
    "            output = model(features)\n",
    "            \n",
    "            #output = [sent len, batch size, output dim]\n",
    "            output = torch.argmax(torch.softmax(output, dim=2), dim=2)\n",
    "            \n",
    "            #output = [sent len, batch size]\n",
    "            predict_tags = output.cpu().numpy()\n",
    "            true_tags = target.cpu().numpy()\n",
    "\n",
    "            true_pred += np.sum((true_tags == predict_tags) & (true_tags != PAD_IDX))\n",
    "            num_pred += np.prod(true_tags.shape) - (true_tags == PAD_IDX).sum()\n",
    "        \n",
    "    return round(true_pred / num_pred * 100, 3)"
   ]
  },
  {
   "cell_type": "markdown",
   "metadata": {
    "id": "Lp5YZSMWuGc8"
   },
   "source": [
    "Точность на всей выборке (число эпох 3)"
   ]
  },
  {
   "cell_type": "code",
   "execution_count": 214,
   "metadata": {
    "colab": {
     "base_uri": "https://localhost:8080/",
     "height": 35
    },
    "id": "V2n0H85mxomE",
    "outputId": "05a2aa14-8bb0-4da7-9571-9990006cee5c",
    "scrolled": true
   },
   "outputs": [
    {
     "name": "stdout",
     "output_type": "stream",
     "text": [
      "Accuracy: 97.673 %\n"
     ]
    }
   ],
   "source": [
    "# точность  на всей выборке\n",
    "print(\"Accuracy:\", accuracy_model(model, test_iterator), '%')"
   ]
  },
  {
   "cell_type": "markdown",
   "metadata": {
    "id": "FacTKSPJcMeP"
   },
   "source": [
    "Можете улучшить качество, изменяя параметры модели. Но чтобы добиться нужного качества, неообходимо взять всю выборку, а не только категорию `humor`."
   ]
  },
  {
   "cell_type": "code",
   "execution_count": 141,
   "metadata": {
    "id": "TqD1lZuwxomK",
    "scrolled": true
   },
   "outputs": [],
   "source": [
    "best_model = LSTMTagger(INPUT_DIM, EMB_DIM, HID_DIM, OUTPUT_DIM, \n",
    "                   DROPOUT,  PAD_IDX, BIDIRECTIONAL, N_LAYERS).to(device)\n",
    "best_model.load_state_dict(torch.load('best-val-model.pt'))\n",
    "assert accuracy_model(best_model, test_iterator) >= 92"
   ]
  },
  {
   "cell_type": "markdown",
   "metadata": {
    "id": "nVfdJM-lcMeZ"
   },
   "source": [
    "Пример решение нашей задачи:"
   ]
  },
  {
   "cell_type": "code",
   "execution_count": 142,
   "metadata": {
    "id": "W3GUbwldxomW"
   },
   "outputs": [],
   "source": [
    "def print_tags(model, data):\n",
    "    model.eval()\n",
    "    \n",
    "    with torch.no_grad():\n",
    "        words, _ = data\n",
    "        example = torch.LongTensor([WORD.vocab.stoi[elem] for elem in words]).unsqueeze(1).to(device)\n",
    "        \n",
    "        output = model(example).argmax(dim=-1).cpu().numpy()\n",
    "        tags = [TAG.vocab.itos[int(elem)] for elem in output]\n",
    "\n",
    "        for token, tag in zip(words, tags):\n",
    "            print(f'{token:15s}{tag}')"
   ]
  },
  {
   "cell_type": "code",
   "execution_count": 143,
   "metadata": {
    "colab": {
     "base_uri": "https://localhost:8080/",
     "height": 454
    },
    "id": "4mQoHc_EcMed",
    "outputId": "90f230ad-72ad-4844-dc41-156db92c565a",
    "scrolled": false
   },
   "outputs": [
    {
     "name": "stdout",
     "output_type": "stream",
     "text": [
      "From           NOUN\n",
      "what           DET\n",
      "I              NOUN\n",
      "was            VERB\n",
      "able           ADJ\n",
      "to             ADP\n",
      "gauge          NOUN\n",
      "in             ADP\n",
      "a              DET\n",
      "swift          ADJ\n",
      ",              .\n",
      "greedy         ADJ\n",
      "glance         NOUN\n",
      ",              .\n",
      "the            DET\n",
      "figure         NOUN\n",
      "inside         ADP\n",
      "the            DET\n",
      "coral-colored  ADJ\n",
      "boucle         NOUN\n",
      "dress          NOUN\n",
      "was            VERB\n",
      "stupefying     VERB\n",
      ".              .\n"
     ]
    }
   ],
   "source": [
    "print_tags(model, pos_data[-1])"
   ]
  },
  {
   "cell_type": "markdown",
   "metadata": {
    "id": "j5fq-w9Pt7v8"
   },
   "source": [
    "Точность на категории humor (число эпох 8)"
   ]
  },
  {
   "cell_type": "code",
   "execution_count": 189,
   "metadata": {
    "id": "uhXZ6qK-sV8l"
   },
   "outputs": [],
   "source": [
    "brown_tagged_sents = brown.tagged_sents(tagset=\"universal\", categories='humor')"
   ]
  },
  {
   "cell_type": "code",
   "execution_count": 202,
   "metadata": {
    "colab": {
     "base_uri": "https://localhost:8080/",
     "height": 35
    },
    "id": "y3VO9h72sV6z",
    "outputId": "e8b0c3b7-741a-45ec-f487-40ac68d1cc8c"
   },
   "outputs": [
    {
     "name": "stdout",
     "output_type": "stream",
     "text": [
      "Accuracy: 91.884 %\n"
     ]
    }
   ],
   "source": [
    "print(\"Accuracy:\", accuracy_model(model, test_iterator), '%')"
   ]
  },
  {
   "cell_type": "code",
   "execution_count": 160,
   "metadata": {
    "colab": {
     "base_uri": "https://localhost:8080/",
     "height": 454
    },
    "id": "fPSo4zBZts5i",
    "outputId": "79d8554b-f7a5-4620-a53f-df7c5904bfe5"
   },
   "outputs": [
    {
     "name": "stdout",
     "output_type": "stream",
     "text": [
      "From           ADV\n",
      "what           DET\n",
      "I              NOUN\n",
      "was            VERB\n",
      "able           ADJ\n",
      "to             ADP\n",
      "gauge          NOUN\n",
      "in             ADP\n",
      "a              DET\n",
      "swift          ADJ\n",
      ",              .\n",
      "greedy         ADJ\n",
      "glance         NOUN\n",
      ",              .\n",
      "the            DET\n",
      "figure         NOUN\n",
      "inside         ADP\n",
      "the            DET\n",
      "coral-colored  ADJ\n",
      "boucle         NOUN\n",
      "dress          NOUN\n",
      "was            VERB\n",
      "stupefying     VERB\n",
      ".              .\n"
     ]
    }
   ],
   "source": [
    "print_tags(model, pos_data[-1])"
   ]
  },
  {
   "cell_type": "markdown",
   "metadata": {
    "heading_collapsed": true,
    "id": "zMIJDOBmwC6v"
   },
   "source": [
    "## Сравните результаты моделей HiddenMarkov, LstmTagger:\n",
    "* при обучение на маленькой части корпуса, например, на категории humor\n",
    "* при обучении на всем корпусе"
   ]
  },
  {
   "cell_type": "code",
   "execution_count": null,
   "metadata": {
    "id": "uDdsG2AjO-sp"
   },
   "outputs": [],
   "source": [
    "Точность на всей выборке HiddenMarkovModel составила около 97.78%\n",
    "                         BiLSTM (3 эпохи)  cоставила около 96.2%\n",
    "\n",
    "Точность на категории humor  HiddenMarkovModel составила около 88.8%\n",
    "                             BiLSTM (8 эпох)   cоставила около 91.8%"
   ]
  }
 ],
 "metadata": {
  "accelerator": "GPU",
  "colab": {
   "collapsed_sections": [],
   "name": "[homework]language_model.ipynb",
   "provenance": []
  },
  "kernelspec": {
   "display_name": "Python 3",
   "language": "python",
   "name": "python3"
  },
  "language_info": {
   "codemirror_mode": {
    "name": "ipython",
    "version": 3
   },
   "file_extension": ".py",
   "mimetype": "text/x-python",
   "name": "python",
   "nbconvert_exporter": "python",
   "pygments_lexer": "ipython3",
   "version": "3.7.7"
  },
  "toc": {
   "base_numbering": 1,
   "nav_menu": {},
   "number_sections": false,
   "sideBar": true,
   "skip_h1_title": false,
   "title_cell": "Table of Contents",
   "title_sidebar": "Contents",
   "toc_cell": false,
   "toc_position": {},
   "toc_section_display": true,
   "toc_window_display": false
  },
  "varInspector": {
   "cols": {
    "lenName": 16,
    "lenType": 16,
    "lenVar": 40
   },
   "kernels_config": {
    "python": {
     "delete_cmd_postfix": "",
     "delete_cmd_prefix": "del ",
     "library": "var_list.py",
     "varRefreshCmd": "print(var_dic_list())"
    },
    "r": {
     "delete_cmd_postfix": ") ",
     "delete_cmd_prefix": "rm(",
     "library": "var_list.r",
     "varRefreshCmd": "cat(var_dic_list()) "
    }
   },
   "types_to_exclude": [
    "module",
    "function",
    "builtin_function_or_method",
    "instance",
    "_Feature"
   ],
   "window_display": false
  }
 },
 "nbformat": 4,
 "nbformat_minor": 1
}
